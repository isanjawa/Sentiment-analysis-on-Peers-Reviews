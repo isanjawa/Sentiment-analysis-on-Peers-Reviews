{
 "cells": [
  {
   "cell_type": "markdown",
   "metadata": {},
   "source": [
    "#### Important: Run \"Sentiment_on_English_Reviews\" notebook  first"
   ]
  },
  {
   "cell_type": "code",
   "execution_count": 1,
   "metadata": {},
   "outputs": [],
   "source": [
    "import pandas as pd\n",
    "import numpy as np\n",
    "import seaborn as sns\n",
    "from sklearn.model_selection import train_test_split\n",
    "from sklearn.feature_extraction.text import CountVectorizer\n",
    "from sklearn.feature_extraction.text import TfidfVectorizer\n",
    "\n",
    "import time\n",
    "from sklearn import svm\n",
    "from sklearn.svm import LinearSVC\n",
    "from sklearn.metrics import classification_report\n",
    "from sklearn.preprocessing import MultiLabelBinarizer\n",
    "from sklearn.metrics import accuracy_score, classification_report, confusion_matrix, precision_score, recall_score\n",
    "\n",
    "from sklearn import naive_bayes\n",
    "from sklearn import metrics\n",
    "from sklearn.naive_bayes import MultinomialNB\n",
    "from sklearn.metrics import roc_auc_score"
   ]
  },
  {
   "cell_type": "code",
   "execution_count": 2,
   "metadata": {},
   "outputs": [],
   "source": [
    "# Suppress warnings\n",
    "import warnings\n",
    "warnings.filterwarnings('ignore')"
   ]
  },
  {
   "cell_type": "code",
   "execution_count": 3,
   "metadata": {},
   "outputs": [
    {
     "data": {
      "text/html": [
       "<div>\n",
       "<style scoped>\n",
       "    .dataframe tbody tr th:only-of-type {\n",
       "        vertical-align: middle;\n",
       "    }\n",
       "\n",
       "    .dataframe tbody tr th {\n",
       "        vertical-align: top;\n",
       "    }\n",
       "\n",
       "    .dataframe thead th {\n",
       "        text-align: right;\n",
       "    }\n",
       "</style>\n",
       "<table border=\"1\" class=\"dataframe\">\n",
       "  <thead>\n",
       "    <tr style=\"text-align: right;\">\n",
       "      <th></th>\n",
       "      <th>level_0</th>\n",
       "      <th>evaluation</th>\n",
       "      <th>orientation</th>\n",
       "      <th>Lemma_clean_eng_text</th>\n",
       "      <th>length</th>\n",
       "      <th>Vader_Compound</th>\n",
       "      <th>Vader_sentiment</th>\n",
       "      <th>Vader_score</th>\n",
       "      <th>TextBlob_polarity</th>\n",
       "      <th>TextBlob_subjectivity</th>\n",
       "      <th>TextBlob_sentiment</th>\n",
       "      <th>TextBlob_score</th>\n",
       "    </tr>\n",
       "  </thead>\n",
       "  <tbody>\n",
       "    <tr>\n",
       "      <th>0</th>\n",
       "      <td>0</td>\n",
       "      <td>1</td>\n",
       "      <td>0</td>\n",
       "      <td>article address relevant contingent problem in...</td>\n",
       "      <td>362</td>\n",
       "      <td>0.9657</td>\n",
       "      <td>very positive</td>\n",
       "      <td>2</td>\n",
       "      <td>0.421429</td>\n",
       "      <td>0.612338</td>\n",
       "      <td>positive</td>\n",
       "      <td>1</td>\n",
       "    </tr>\n",
       "    <tr>\n",
       "      <th>1</th>\n",
       "      <td>0</td>\n",
       "      <td>1</td>\n",
       "      <td>1</td>\n",
       "      <td>article present practical recommendation devel...</td>\n",
       "      <td>416</td>\n",
       "      <td>0.9062</td>\n",
       "      <td>very positive</td>\n",
       "      <td>2</td>\n",
       "      <td>0.383333</td>\n",
       "      <td>0.504167</td>\n",
       "      <td>positive</td>\n",
       "      <td>1</td>\n",
       "    </tr>\n",
       "    <tr>\n",
       "      <th>2</th>\n",
       "      <td>0</td>\n",
       "      <td>1</td>\n",
       "      <td>1</td>\n",
       "      <td>theme interesting much help guide incorporate ...</td>\n",
       "      <td>797</td>\n",
       "      <td>0.9231</td>\n",
       "      <td>very positive</td>\n",
       "      <td>2</td>\n",
       "      <td>0.142857</td>\n",
       "      <td>0.325000</td>\n",
       "      <td>positive</td>\n",
       "      <td>1</td>\n",
       "    </tr>\n",
       "    <tr>\n",
       "      <th>3</th>\n",
       "      <td>1</td>\n",
       "      <td>2</td>\n",
       "      <td>1</td>\n",
       "      <td>ict use experience academic collaboration expl...</td>\n",
       "      <td>887</td>\n",
       "      <td>0.8920</td>\n",
       "      <td>positive</td>\n",
       "      <td>1</td>\n",
       "      <td>0.069231</td>\n",
       "      <td>0.468590</td>\n",
       "      <td>positive</td>\n",
       "      <td>1</td>\n",
       "    </tr>\n",
       "    <tr>\n",
       "      <th>4</th>\n",
       "      <td>1</td>\n",
       "      <td>2</td>\n",
       "      <td>0</td>\n",
       "      <td>author describe methodology developing collabo...</td>\n",
       "      <td>1180</td>\n",
       "      <td>0.9768</td>\n",
       "      <td>very positive</td>\n",
       "      <td>2</td>\n",
       "      <td>0.035840</td>\n",
       "      <td>0.462970</td>\n",
       "      <td>positive</td>\n",
       "      <td>1</td>\n",
       "    </tr>\n",
       "  </tbody>\n",
       "</table>\n",
       "</div>"
      ],
      "text/plain": [
       "   level_0  evaluation  orientation  \\\n",
       "0        0           1            0   \n",
       "1        0           1            1   \n",
       "2        0           1            1   \n",
       "3        1           2            1   \n",
       "4        1           2            0   \n",
       "\n",
       "                                Lemma_clean_eng_text  length  Vader_Compound  \\\n",
       "0  article address relevant contingent problem in...     362          0.9657   \n",
       "1  article present practical recommendation devel...     416          0.9062   \n",
       "2  theme interesting much help guide incorporate ...     797          0.9231   \n",
       "3  ict use experience academic collaboration expl...     887          0.8920   \n",
       "4  author describe methodology developing collabo...    1180          0.9768   \n",
       "\n",
       "  Vader_sentiment  Vader_score  TextBlob_polarity  TextBlob_subjectivity  \\\n",
       "0   very positive            2           0.421429               0.612338   \n",
       "1   very positive            2           0.383333               0.504167   \n",
       "2   very positive            2           0.142857               0.325000   \n",
       "3        positive            1           0.069231               0.468590   \n",
       "4   very positive            2           0.035840               0.462970   \n",
       "\n",
       "  TextBlob_sentiment  TextBlob_score  \n",
       "0           positive               1  \n",
       "1           positive               1  \n",
       "2           positive               1  \n",
       "3           positive               1  \n",
       "4           positive               1  "
      ]
     },
     "execution_count": 3,
     "metadata": {},
     "output_type": "execute_result"
    }
   ],
   "source": [
    "df= pd.read_csv('englishSentimentDF.csv', index_col = 0)\n",
    "\n",
    "df.head()"
   ]
  },
  {
   "cell_type": "code",
   "execution_count": 4,
   "metadata": {},
   "outputs": [
    {
     "data": {
      "text/plain": [
       "<AxesSubplot:xlabel='Vader_sentiment', ylabel='count'>"
      ]
     },
     "execution_count": 4,
     "metadata": {},
     "output_type": "execute_result"
    },
    {
     "data": {
      "image/png": "[encoded data removed]",
      "text/plain": [
       "<Figure size 432x288 with 1 Axes>"
      ]
     },
     "metadata": {
      "needs_background": "light"
     },
     "output_type": "display_data"
    }
   ],
   "source": [
    "# Plot the Vader_sentiment column\n",
    "\n",
    "#sns.countplot(x ='TextBlob_sentiment', data = df)\n",
    "sns.countplot(x ='Vader_sentiment', data = df)"
   ]
  },
  {
   "cell_type": "code",
   "execution_count": 58,
   "metadata": {},
   "outputs": [
    {
     "data": {
      "text/plain": [
       "<AxesSubplot:xlabel='TextBlob_sentiment', ylabel='count'>"
      ]
     },
     "execution_count": 58,
     "metadata": {},
     "output_type": "execute_result"
    },
    {
     "data": {
      "image/png": "[encoded data removed]",
      "text/plain": [
       "<Figure size 432x288 with 1 Axes>"
      ]
     },
     "metadata": {
      "needs_background": "light"
     },
     "output_type": "display_data"
    }
   ],
   "source": [
    "# Plot the TextBlob_sentiment column\n",
    "\n",
    "#sns.countplot(x ='TextBlob_sentiment', data = df)\n",
    "sns.countplot(x ='TextBlob_sentiment', data = df)"
   ]
  },
  {
   "cell_type": "markdown",
   "metadata": {},
   "source": [
    "#### Sentiment Analysis with Support Vector Machines (SVM)"
   ]
  },
  {
   "cell_type": "code",
   "execution_count": 6,
   "metadata": {},
   "outputs": [],
   "source": [
    "#  Using TextBlob_score as target values\n",
    "\n",
    "X = df.Lemma_clean_eng_text.values\n",
    "y = df.TextBlob_score.values\n",
    "\n",
    "# Split the data\n",
    "X_train,X_test,y_train,y_test=train_test_split(X,y,test_size=0.25)"
   ]
  },
  {
   "cell_type": "code",
   "execution_count": 7,
   "metadata": {},
   "outputs": [
    {
     "name": "stdout",
     "output_type": "stream",
     "text": [
      "X_train:  299\n",
      "X_test:  100\n",
      "y_train:  299\n",
      "y_test:  100\n"
     ]
    }
   ],
   "source": [
    "print('X_train: ', len(X_train))\n",
    "print('X_test: ', len(X_test))\n",
    "print('y_train: ', len(y_train))\n",
    "print('y_test: ', len(y_test))"
   ]
  },
  {
   "cell_type": "code",
   "execution_count": 8,
   "metadata": {},
   "outputs": [
    {
     "name": "stdout",
     "output_type": "stream",
     "text": [
      "Accuracy score for SVC is: 82.0 %\n"
     ]
    }
   ],
   "source": [
    "# Initializing the countvectorizer\n",
    "vectorizer = CountVectorizer(binary = True)\n",
    "\n",
    "# Vocabulary\n",
    "vectorizer.fit(list(X_train)+ list(X_test))\n",
    "\n",
    "# Create feature vectors\n",
    "train_vectors = vectorizer.transform(X_train)\n",
    "test_vectors = vectorizer.transform(X_test)\n",
    "\n",
    "# Perform classification with SVM, kernel=linear\n",
    "\n",
    "classifier_linear = svm.SVC(kernel='linear', probability = True)\n",
    "\n",
    "# Fit the SVC model\n",
    "prob = classifier_linear.fit(train_vectors, y_train).predict_proba(test_vectors)\n",
    "\n",
    "\n",
    "prediction_linear = classifier_linear.predict(test_vectors)\n",
    "\n",
    "# Accuracy score\n",
    "print(\"Accuracy score for SVM is:\", round(accuracy_score(y_test, prediction_linear)*100,2), '%')\n",
    "\n",
    "\n"
   ]
  },
  {
   "cell_type": "code",
   "execution_count": 9,
   "metadata": {},
   "outputs": [
    {
     "name": "stdout",
     "output_type": "stream",
     "text": [
      "              precision    recall  f1-score   support\n",
      "\n",
      "          -2       0.00      0.00      0.00         0\n",
      "          -1       0.38      0.19      0.25        16\n",
      "           1       0.87      0.94      0.90        84\n",
      "\n",
      "    accuracy                           0.82       100\n",
      "   macro avg       0.41      0.38      0.38       100\n",
      "weighted avg       0.79      0.82      0.80       100\n",
      "\n"
     ]
    }
   ],
   "source": [
    "# Classification score\n",
    "report = classification_report(y_test, prediction_linear)\n",
    "\n",
    "print(report)"
   ]
  },
  {
   "cell_type": "code",
   "execution_count": 10,
   "metadata": {},
   "outputs": [
    {
     "name": "stdout",
     "output_type": "stream",
     "text": [
      "Score:  86.00%\n"
     ]
    }
   ],
   "source": [
    "# Using TextBlob_sentiment as target values\n",
    "\n",
    "reviews = df.Lemma_clean_eng_text\n",
    "\n",
    "X_tokens= [review.split() for review in reviews]\n",
    "\n",
    "y = df.TextBlob_sentiment\n",
    "\n",
    "# Transform our review inputs into binary vectors with the help of the class MultiLabelBinarizer\n",
    "\n",
    "onehot_enc = MultiLabelBinarizer()\n",
    "onehot_enc.fit(X_tokens)\n",
    "\n",
    "X_train, X_test, y_train, y_test = train_test_split(X_tokens, y, test_size=0.25, random_state=None)\n",
    "\n",
    "# Create our SVM classifier with the class LinearSVC and train it\n",
    "\n",
    "lsvm = LinearSVC()\n",
    "lsvm.fit(onehot_enc.transform(X_train), y_train) \n",
    "\n",
    "# After training, we use the score function to check the performance of the classifier:\n",
    "sent_score = lsvm.score(onehot_enc.transform(X_test), y_test)\n",
    "\n",
    "#sent_score\n",
    "print('Score: ', str('{:04.2f}'.format(sent_score*100)) + '%')"
   ]
  },
  {
   "cell_type": "code",
   "execution_count": 11,
   "metadata": {},
   "outputs": [
    {
     "name": "stdout",
     "output_type": "stream",
     "text": [
      "SVC Accuracy score:  81.00%\n"
     ]
    }
   ],
   "source": [
    "# Using TextBlob_score\n",
    "\n",
    "reviews = df.Lemma_clean_eng_text\n",
    "\n",
    "X_tokens= [review.split() for review in reviews]\n",
    "\n",
    "y = df.TextBlob_score\n",
    "\n",
    "# Transform our review inputs into binary vectors with the help of the class MultiLabelBinarizer\n",
    "\n",
    "onehot_enc = MultiLabelBinarizer()\n",
    "onehot_enc.fit(X_tokens)\n",
    "\n",
    "X_train, X_test, y_train, y_test = train_test_split(X_tokens, y, test_size=0.25, random_state=None)\n",
    "\n",
    "# Create our SVM classifier with the class LinearSVC and train it. \n",
    "# LinearSVC=Linear Support Vector Classifier\n",
    "\n",
    "lsvm = LinearSVC()\n",
    "lsvm.fit(onehot_enc.transform(X_train), y_train)\n",
    "\n",
    "# After training, we use the score function to check the performance of the classifier:\n",
    "score = lsvm.score(onehot_enc.transform(X_test), y_test)\n",
    "#score\n",
    "print('SVC Accuracy score: ', str('{:04.2f}'.format(score*100)) + '%')"
   ]
  },
  {
   "cell_type": "markdown",
   "metadata": {},
   "source": [
    "#### Sentiment Analysis with Naive Bayes (NB)"
   ]
  },
  {
   "cell_type": "code",
   "execution_count": 12,
   "metadata": {},
   "outputs": [
    {
     "name": "stdout",
     "output_type": "stream",
     "text": [
      "Accuracy score:  76.00%\n"
     ]
    }
   ],
   "source": [
    "# Using TextBlob_score\n",
    "\n",
    "# Create feature vectors\n",
    "\n",
    "vectorizer = TfidfVectorizer(min_df = 5,\n",
    "                             max_df = 0.8,\n",
    "                             sublinear_tf = True,\n",
    "                             use_idf = True)\n",
    "\n",
    "X = vectorizer.fit_transform(df.Lemma_clean_eng_text) \n",
    "y = df.TextBlob_score\n",
    "\n",
    "# Split the data \n",
    "X_train, X_test, y_train, y_test = train_test_split(X, y, test_size=0.25, random_state=None)\n",
    "\n",
    "# Train the naive bayes classifier and fit the model\n",
    "clf = naive_bayes.MultinomialNB()\n",
    "clf.fit(X_train, y_train)\n",
    "\n",
    "# Predict \n",
    "predictions = clf.predict(X_test)\n",
    "\n",
    "# Testing the accuracy\n",
    "# Model Accuracy, how often is the classifier correct?\n",
    "accuracy_score = metrics.accuracy_score(predictions, y_test)\n",
    "\n",
    "print('Accuracy score: ', str('{:04.2f}'.format(accuracy_score*100)) + '%')"
   ]
  },
  {
   "cell_type": "code",
   "execution_count": 13,
   "metadata": {},
   "outputs": [
    {
     "name": "stdout",
     "output_type": "stream",
     "text": [
      "[1]\n"
     ]
    }
   ],
   "source": [
    "# Test\n",
    "review = np.array([\"The introduction provides a good, generalized background of the topic that quickly gives the reader an appreciation of the wide range of applications for this technology. However, to make the introduction more substantial, the author may wish to provide several references to substantiate the claim made in the first sentence\"])\n",
    "review_vector = vectorizer.transform(review)\n",
    "print(clf.predict(review_vector))\n"
   ]
  },
  {
   "cell_type": "markdown",
   "metadata": {},
   "source": [
    "### Sentiment analysis using neural networks RNN model"
   ]
  },
  {
   "cell_type": "code",
   "execution_count": 46,
   "metadata": {},
   "outputs": [],
   "source": [
    "from keras.models import Sequential, load_model\n",
    "from keras.layers import Dense, LSTM, Embedding, Dropout\n",
    "from keras.preprocessing.text import Tokenizer\n",
    "from keras.preprocessing.sequence import pad_sequences\n"
   ]
  },
  {
   "cell_type": "code",
   "execution_count": 47,
   "metadata": {},
   "outputs": [],
   "source": [
    "# https://towardsdatascience.com/a-beginners-guide-on-sentiment-analysis-with-rnn-9e100627c02e"
   ]
  },
  {
   "cell_type": "code",
   "execution_count": 48,
   "metadata": {},
   "outputs": [
    {
     "data": {
      "text/plain": [
       "count     399.000000\n",
       "mean      629.869674\n",
       "std       504.488300\n",
       "min        22.000000\n",
       "25%       311.000000\n",
       "50%       495.000000\n",
       "75%       782.500000\n",
       "max      3808.000000\n",
       "Name: length, dtype: float64"
      ]
     },
     "execution_count": 48,
     "metadata": {},
     "output_type": "execute_result"
    }
   ],
   "source": [
    "df[\"length\"].describe()"
   ]
  },
  {
   "cell_type": "code",
   "execution_count": 49,
   "metadata": {},
   "outputs": [],
   "source": [
    "### min review length is 22 \n",
    "### max review length is 3808 "
   ]
  },
  {
   "cell_type": "code",
   "execution_count": 54,
   "metadata": {},
   "outputs": [
    {
     "data": {
      "text/plain": [
       "array([[   0,    0,    0, ...,  233,  480,  137],\n",
       "       [   0,    0,    0, ...,  356,  510, 1662],\n",
       "       [   0,    0,    0, ...,  860,   27,    3],\n",
       "       [   0,    0,    0, ...,  863, 1333, 2254],\n",
       "       [   0,    0,    0, ...,  779,  632,   41]])"
      ]
     },
     "execution_count": 54,
     "metadata": {},
     "output_type": "execute_result"
    }
   ],
   "source": [
    "tokenizer = Tokenizer(num_words = 4000)\n",
    "tokenizer.fit_on_texts(df.Lemma_clean_eng_text.values)\n",
    "\n",
    "x = tokenizer.texts_to_sequences(df.Lemma_clean_eng_text.values)\n",
    "x = pad_sequences(x) # padding our texts vectors so they all have the same length\n",
    "x[:5]"
   ]
  },
  {
   "cell_type": "markdown",
   "metadata": {},
   "source": [
    "#### Creating the model"
   ]
  },
  {
   "cell_type": "code",
   "execution_count": 57,
   "metadata": {},
   "outputs": [
    {
     "ename": "TypeError",
     "evalue": "'tuple' object is not callable",
     "output_type": "error",
     "traceback": [
      "\u001b[1;31m---------------------------------------------------------------------------\u001b[0m",
      "\u001b[1;31mTypeError\u001b[0m                                 Traceback (most recent call last)",
      "\u001b[1;32m<ipython-input-57-ca19ca1b48e0>\u001b[0m in \u001b[0;36m<module>\u001b[1;34m\u001b[0m\n\u001b[0;32m      1\u001b[0m \u001b[0mmodel\u001b[0m \u001b[1;33m=\u001b[0m \u001b[0mSequential\u001b[0m\u001b[1;33m(\u001b[0m\u001b[1;33m)\u001b[0m\u001b[1;33m\u001b[0m\u001b[1;33m\u001b[0m\u001b[0m\n\u001b[1;32m----> 2\u001b[1;33m \u001b[0mmodel\u001b[0m\u001b[1;33m.\u001b[0m\u001b[0madd\u001b[0m\u001b[1;33m(\u001b[0m\u001b[0mEmbedding\u001b[0m\u001b[1;33m(\u001b[0m\u001b[1;36m4000\u001b[0m\u001b[1;33m,\u001b[0m \u001b[1;36m22\u001b[0m\u001b[1;33m,\u001b[0m \u001b[0minput_lenght\u001b[0m\u001b[1;33m=\u001b[0m\u001b[0mx\u001b[0m\u001b[1;33m.\u001b[0m\u001b[0mshape\u001b[0m\u001b[1;33m(\u001b[0m\u001b[1;36m1\u001b[0m\u001b[1;33m)\u001b[0m\u001b[1;33m)\u001b[0m\u001b[1;33m)\u001b[0m\u001b[1;33m\u001b[0m\u001b[1;33m\u001b[0m\u001b[0m\n\u001b[0m\u001b[0;32m      3\u001b[0m \u001b[0mmodel\u001b[0m\u001b[1;33m.\u001b[0m\u001b[0madd\u001b[0m\u001b[1;33m(\u001b[0m\u001b[0mDropout\u001b[0m\u001b[1;33m(\u001b[0m\u001b[1;36m0.3\u001b[0m\u001b[1;33m)\u001b[0m\u001b[1;33m)\u001b[0m\u001b[1;33m\u001b[0m\u001b[1;33m\u001b[0m\u001b[0m\n\u001b[0;32m      4\u001b[0m \u001b[0mmodel\u001b[0m\u001b[1;33m.\u001b[0m\u001b[0madd\u001b[0m\u001b[1;33m(\u001b[0m\u001b[0mLSTM\u001b[0m\u001b[1;33m(\u001b[0m\u001b[1;36m22\u001b[0m\u001b[1;33m,\u001b[0m \u001b[0mreturn_sequence\u001b[0m\u001b[1;33m=\u001b[0m\u001b[1;32mTrue\u001b[0m\u001b[1;33m,\u001b[0m \u001b[0mdropout\u001b[0m\u001b[1;33m=\u001b[0m\u001b[1;36m0.3\u001b[0m\u001b[1;33m,\u001b[0m \u001b[0mrecurrent_dropout\u001b[0m\u001b[1;33m=\u001b[0m\u001b[1;36m0.2\u001b[0m\u001b[1;33m)\u001b[0m\u001b[1;33m)\u001b[0m\u001b[1;33m\u001b[0m\u001b[1;33m\u001b[0m\u001b[0m\n\u001b[0;32m      5\u001b[0m \u001b[0mmodel\u001b[0m\u001b[1;33m.\u001b[0m\u001b[0madd\u001b[0m\u001b[1;33m(\u001b[0m\u001b[0mLSTM\u001b[0m\u001b[1;33m(\u001b[0m\u001b[1;36m22\u001b[0m\u001b[1;33m,\u001b[0m\u001b[0mdropout\u001b[0m\u001b[1;33m=\u001b[0m\u001b[1;36m0.0\u001b[0m\u001b[1;33m,\u001b[0m \u001b[0mrecurrent_dropout\u001b[0m\u001b[1;33m=\u001b[0m\u001b[1;36m0.2\u001b[0m \u001b[1;33m)\u001b[0m\u001b[1;33m)\u001b[0m\u001b[1;33m\u001b[0m\u001b[1;33m\u001b[0m\u001b[0m\n",
      "\u001b[1;31mTypeError\u001b[0m: 'tuple' object is not callable"
     ]
    }
   ],
   "source": [
    "model = Sequential()\n",
    "model.add(Embedding(4000, 22, input_lenght=x.shape(1)))\n",
    "model.add(Dropout(0.3))\n",
    "model.add(LSTM(22, return_sequence=True, dropout=0.3, recurrent_dropout=0.2))\n",
    "model.add(LSTM(22,dropout=0.0, recurrent_dropout=0.2 ))\n",
    "model.add(Dense(3, activation='softmax'))"
   ]
  },
  {
   "cell_type": "code",
   "execution_count": null,
   "metadata": {},
   "outputs": [],
   "source": [
    "# Train and evaluate the model\n",
    "\n",
    "model.compile(loss='categorical_crossentropy', optimizer='adam', metrics=['accuracy'])\n",
    "model.summary()"
   ]
  },
  {
   "cell_type": "code",
   "execution_count": null,
   "metadata": {},
   "outputs": [],
   "source": []
  },
  {
   "cell_type": "code",
   "execution_count": null,
   "metadata": {},
   "outputs": [],
   "source": []
  },
  {
   "cell_type": "code",
   "execution_count": null,
   "metadata": {},
   "outputs": [],
   "source": []
  },
  {
   "cell_type": "code",
   "execution_count": 51,
   "metadata": {},
   "outputs": [],
   "source": [
    "X = df.Lemma_clean_eng_text\n",
    "y = df.TextBlob_score\n",
    "\n",
    "# Split the data\n",
    "X_train,X_test,y_train,y_test=train_test_split(X,y,test_size=0.25)\n"
   ]
  },
  {
   "cell_type": "code",
   "execution_count": null,
   "metadata": {},
   "outputs": [],
   "source": []
  }
 ],
 "metadata": {
  "kernelspec": {
   "display_name": "Python 3",
   "language": "python",
   "name": "python3"
  },
  "language_info": {
   "codemirror_mode": {
    "name": "ipython",
    "version": 3
   },
   "file_extension": ".py",
   "mimetype": "text/x-python",
   "name": "python",
   "nbconvert_exporter": "python",
   "pygments_lexer": "ipython3",
   "version": "3.8.5"
  }
 },
 "nbformat": 4,
 "nbformat_minor": 4
}
