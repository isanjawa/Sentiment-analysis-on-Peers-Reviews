{
 "cells": [
  {
   "cell_type": "code",
   "execution_count": null,
   "metadata": {},
   "outputs": [],
   "source": [
    "import pandas as pd\n",
    "import numpy as np\n",
    "import matplotlib.pyplot as plt\n",
    "%matplotlib inline\n",
    "\n",
    "from sklearn.feature_extraction.text import TfidfVectorizer\n",
    "from sklearn.linear_model import LogisticRegression\n",
    "from sklearn.svm import LinearSVC\n",
    "from sklearn.pipeline import Pipeline\n",
    "from sklearn.model_selection import train_test_split\n",
    "from sklearn.metrics import accuracy_score, classification_report, confusion_matrix, precision_score, recall_score"
   ]
  },
  {
   "cell_type": "code",
   "execution_count": null,
   "metadata": {},
   "outputs": [],
   "source": [
    "df1 = pd.read_csv('decision.csv', index_col = 0)\n",
    "\n",
    "df1"
   ]
  },
  {
   "cell_type": "code",
   "execution_count": null,
   "metadata": {},
   "outputs": [],
   "source": [
    "df1.preliminary_decision.value_counts()"
   ]
  },
  {
   "cell_type": "code",
   "execution_count": null,
   "metadata": {},
   "outputs": [],
   "source": [
    "# Checking for the preliminary decision\n",
    "print(round(df1.preliminary_decision.value_counts(normalize=True)*100, 2))\n",
    "round(df1.preliminary_decision.value_counts(normalize=True)*100, 2).plot(kind='bar')\n",
    "plt.title('Percentage preliminary decision by book reviews')\n",
    "plt.show\n"
   ]
  },
  {
   "cell_type": "code",
   "execution_count": null,
   "metadata": {},
   "outputs": [],
   "source": [
    "df2 = pd.read_csv('lemma.csv', index_col = 0)\n",
    "\n",
    "df2"
   ]
  },
  {
   "cell_type": "code",
   "execution_count": null,
   "metadata": {},
   "outputs": [],
   "source": [
    "# Checking for the confidence\n",
    "print(round(df2.confidence.value_counts(normalize=True)*100, 2))\n",
    "round(df2.confidence.value_counts(normalize=True)*100, 2).plot(kind='bar')\n",
    "plt.title('Percentage of confidence')\n",
    "plt.show"
   ]
  },
  {
   "cell_type": "code",
   "execution_count": null,
   "metadata": {},
   "outputs": [],
   "source": [
    "# Checking for the evaluation\n",
    "print(round(df2.evaluation.value_counts(normalize=True)*100, 2))\n",
    "round(df2.evaluation.value_counts(normalize=True)*100, 2).plot(kind='bar')\n",
    "plt.title('Percentage of evaluation')\n",
    "plt.show"
   ]
  },
  {
   "cell_type": "code",
   "execution_count": null,
   "metadata": {},
   "outputs": [],
   "source": [
    "# Checking for the orientation\n",
    "print(round(df2.orientation.value_counts(normalize=True)*100, 2))\n",
    "round(df2.orientation.value_counts(normalize=True)*100, 2).plot(kind='bar')\n",
    "plt.title('Percentage of orientation')\n",
    "plt.show"
   ]
  },
  {
   "cell_type": "code",
   "execution_count": null,
   "metadata": {},
   "outputs": [],
   "source": [
    "# Extract 2 columns: level_0 and Lemma_text"
   ]
  },
  {
   "cell_type": "code",
   "execution_count": null,
   "metadata": {},
   "outputs": [],
   "source": [
    "df2_new = df2[['level_0','Lemma_text']]\n",
    "\n",
    "df2_new.head()"
   ]
  },
  {
   "cell_type": "code",
   "execution_count": null,
   "metadata": {},
   "outputs": [],
   "source": [
    "# Checking 1st row before concatanation\n",
    "df2_new['Lemma_text'][0]"
   ]
  },
  {
   "cell_type": "code",
   "execution_count": null,
   "metadata": {},
   "outputs": [],
   "source": [
    "# Merge rows by same value in the column ('level_0')\n",
    "d = {'Lemma_text': lambda x: ' '.join(x)}\n",
    "df_new = df2_new.groupby(df2_new['level_0']).aggregate(d)\n",
    "df_new.head()"
   ]
  },
  {
   "cell_type": "code",
   "execution_count": null,
   "metadata": {},
   "outputs": [],
   "source": [
    "# Checking if the rows are well concatenated\n",
    "df_new['Lemma_text'][0]"
   ]
  },
  {
   "cell_type": "code",
   "execution_count": null,
   "metadata": {},
   "outputs": [],
   "source": [
    "## Merge two dataframes\n",
    "df_merge = pd.merge(df1, df_new, left_index=True, right_index=True)\n",
    "df_merge.head()"
   ]
  },
  {
   "cell_type": "code",
   "execution_count": null,
   "metadata": {},
   "outputs": [],
   "source": [
    "# Drop review column\n",
    "df_merge_drop = df_merge.drop(['review'], axis =1)\n",
    "df_merge_drop.head()"
   ]
  },
  {
   "cell_type": "markdown",
   "metadata": {},
   "source": [
    "### Model training"
   ]
  },
  {
   "cell_type": "code",
   "execution_count": null,
   "metadata": {},
   "outputs": [],
   "source": [
    "from sklearn.model_selection import train_test_split\n",
    "\n",
    "independent_var = df_merge_drop.Lemma_text\n",
    "target_var = df_merge_drop.preliminary_decision\n",
    "\n",
    "X_train, X_test, y_train, y_test = train_test_split(independent_var, target_var, test_size=0.2, random_state = 42) \n",
    "\n",
    "print('X_train: ', len(X_train))\n",
    "print('X_test: ', len(X_test))\n",
    "print('y_train: ', len(y_train))\n",
    "print('y_test: ', len(y_test))"
   ]
  },
  {
   "cell_type": "markdown",
   "metadata": {},
   "source": [
    "### Vectorization Feature Engineering (TF-IDF)"
   ]
  },
  {
   "cell_type": "code",
   "execution_count": null,
   "metadata": {},
   "outputs": [],
   "source": [
    "tfvec = TfidfVectorizer()\n",
    "#clf = LogisticRegression(solver = \"liblinear\") # https://scikit-learn.org/stable/modules/generated/sklearn.linear_model.LogisticRegression.html\n",
    "clf = LinearSVC() # This has increase the ccuracy"
   ]
  },
  {
   "cell_type": "code",
   "execution_count": null,
   "metadata": {},
   "outputs": [],
   "source": [
    "model = Pipeline([('vectorizer', tfvec), ('classifier', clf)])\n",
    "model.fit(X_train, y_train)"
   ]
  },
  {
   "cell_type": "code",
   "execution_count": null,
   "metadata": {},
   "outputs": [],
   "source": [
    "predictions = model.predict(X_test)\n",
    "confusion_matrix(predictions, y_test)"
   ]
  },
  {
   "cell_type": "markdown",
   "metadata": {},
   "source": [
    "### Model prediction"
   ]
  },
  {
   "cell_type": "code",
   "execution_count": null,
   "metadata": {},
   "outputs": [],
   "source": [
    "print(\"Accuracy: \", accuracy_score(predictions, y_test ))\n",
    "print(\"Precision: \", precision_score(predictions, y_test, average = 'weighted' ) )\n",
    "print(\"Recall: \", recall_score(predictions, y_test, average = 'weighted', labels=np.unique(predictions)))"
   ]
  },
  {
   "cell_type": "code",
   "execution_count": null,
   "metadata": {},
   "outputs": [],
   "source": [
    "# classification_report() builds a text report showing the main classification metrics.\n",
    "\n",
    "print(classification_report(y_test, predictions))# , labels=np.unique(predictions)))\n"
   ]
  },
  {
   "cell_type": "code",
   "execution_count": null,
   "metadata": {},
   "outputs": [],
   "source": [
    "### Try a new review\n",
    "\n",
    "review = ['su novela es una historia mágica que revela la esencia de la vida, el amor y la soledad. Debido a la simplicidad del estilo de la prosa, las ilustraciones divertidas y divertidas, la viveza de la imaginación, esta historia simple pero reveladora se considera una de las mejores obras literarias de todos los tiempos.']\n",
    "result = model.predict(review)\n",
    "\n",
    "print(result)"
   ]
  },
  {
   "cell_type": "code",
   "execution_count": null,
   "metadata": {},
   "outputs": [],
   "source": []
  }
 ],
 "metadata": {
  "kernelspec": {
   "display_name": "Python 3",
   "language": "python",
   "name": "python3"
  },
  "language_info": {
   "codemirror_mode": {
    "name": "ipython",
    "version": 3
   },
   "file_extension": ".py",
   "mimetype": "text/x-python",
   "name": "python",
   "nbconvert_exporter": "python",
   "pygments_lexer": "ipython3",
   "version": "3.8.5"
  }
 },
 "nbformat": 4,
 "nbformat_minor": 4
}
