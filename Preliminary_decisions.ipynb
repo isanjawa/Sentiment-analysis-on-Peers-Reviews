{
 "cells": [
  {
   "cell_type": "markdown",
   "metadata": {},
   "source": [
    "### Here I'm trying to predict the \"preliminary decision\" about a book based of its reviews"
   ]
  },
  {
   "cell_type": "markdown",
   "metadata": {},
   "source": [
    "#### Important: Run this notebook after running \" review_GitHub.ipynb \""
   ]
  },
  {
   "cell_type": "code",
   "execution_count": 1,
   "metadata": {},
   "outputs": [],
   "source": [
    "import pandas as pd\n",
    "import numpy as np\n",
    "import seaborn as sns\n",
    "import matplotlib.pyplot as plt\n",
    "%matplotlib inline\n",
    "\n",
    "from sklearn.feature_extraction.text import TfidfVectorizer\n",
    "from sklearn.feature_extraction.text import CountVectorizer\n",
    "from sklearn.linear_model import LogisticRegression\n",
    "from sklearn.tree import DecisionTreeClassifier\n",
    "from sklearn.naive_bayes import MultinomialNB\n",
    "from sklearn.svm import LinearSVC\n",
    "from sklearn.pipeline import Pipeline\n",
    "from sklearn.model_selection import train_test_split\n",
    "from sklearn.metrics import accuracy_score, classification_report, confusion_matrix, precision_score, recall_score"
   ]
  },
  {
   "cell_type": "code",
   "execution_count": 2,
   "metadata": {},
   "outputs": [],
   "source": [
    "# Suppress warnings\n",
    "import warnings\n",
    "warnings.filterwarnings('ignore')"
   ]
  },
  {
   "cell_type": "markdown",
   "metadata": {},
   "source": [
    "### Exploratory Data Analysis(EDA)"
   ]
  },
  {
   "cell_type": "code",
   "execution_count": 3,
   "metadata": {},
   "outputs": [
    {
     "data": {
      "text/html": [
       "<div>\n",
       "<style scoped>\n",
       "    .dataframe tbody tr th:only-of-type {\n",
       "        vertical-align: middle;\n",
       "    }\n",
       "\n",
       "    .dataframe tbody tr th {\n",
       "        vertical-align: top;\n",
       "    }\n",
       "\n",
       "    .dataframe thead th {\n",
       "        text-align: right;\n",
       "    }\n",
       "</style>\n",
       "<table border=\"1\" class=\"dataframe\">\n",
       "  <thead>\n",
       "    <tr style=\"text-align: right;\">\n",
       "      <th></th>\n",
       "      <th>book_id</th>\n",
       "      <th>preliminary_decision</th>\n",
       "      <th>review</th>\n",
       "    </tr>\n",
       "  </thead>\n",
       "  <tbody>\n",
       "    <tr>\n",
       "      <th>0</th>\n",
       "      <td>1</td>\n",
       "      <td>accept</td>\n",
       "      <td>[{'confidence': '4', 'evaluation': '1', 'id': ...</td>\n",
       "    </tr>\n",
       "    <tr>\n",
       "      <th>1</th>\n",
       "      <td>2</td>\n",
       "      <td>accept</td>\n",
       "      <td>[{'confidence': '4', 'evaluation': '2', 'id': ...</td>\n",
       "    </tr>\n",
       "    <tr>\n",
       "      <th>2</th>\n",
       "      <td>3</td>\n",
       "      <td>accept</td>\n",
       "      <td>[{'confidence': '4', 'evaluation': '2', 'id': ...</td>\n",
       "    </tr>\n",
       "    <tr>\n",
       "      <th>3</th>\n",
       "      <td>4</td>\n",
       "      <td>accept</td>\n",
       "      <td>[{'confidence': '4', 'evaluation': '2', 'id': ...</td>\n",
       "    </tr>\n",
       "    <tr>\n",
       "      <th>4</th>\n",
       "      <td>5</td>\n",
       "      <td>accept</td>\n",
       "      <td>[{'confidence': '4', 'evaluation': '2', 'id': ...</td>\n",
       "    </tr>\n",
       "    <tr>\n",
       "      <th>...</th>\n",
       "      <td>...</td>\n",
       "      <td>...</td>\n",
       "      <td>...</td>\n",
       "    </tr>\n",
       "    <tr>\n",
       "      <th>167</th>\n",
       "      <td>168</td>\n",
       "      <td>accept</td>\n",
       "      <td>[{'confidence': '3', 'evaluation': '2', 'id': ...</td>\n",
       "    </tr>\n",
       "    <tr>\n",
       "      <th>168</th>\n",
       "      <td>169</td>\n",
       "      <td>accept</td>\n",
       "      <td>[{'confidence': '3', 'evaluation': '1', 'id': ...</td>\n",
       "    </tr>\n",
       "    <tr>\n",
       "      <th>169</th>\n",
       "      <td>170</td>\n",
       "      <td>reject</td>\n",
       "      <td>[{'confidence': '5', 'evaluation': '-1', 'id':...</td>\n",
       "    </tr>\n",
       "    <tr>\n",
       "      <th>170</th>\n",
       "      <td>171</td>\n",
       "      <td>accept</td>\n",
       "      <td>[{'confidence': '4', 'evaluation': '-1', 'id':...</td>\n",
       "    </tr>\n",
       "    <tr>\n",
       "      <th>171</th>\n",
       "      <td>172</td>\n",
       "      <td>no decision</td>\n",
       "      <td>[{'confidence': '4', 'evaluation': '1', 'id': ...</td>\n",
       "    </tr>\n",
       "  </tbody>\n",
       "</table>\n",
       "<p>172 rows × 3 columns</p>\n",
       "</div>"
      ],
      "text/plain": [
       "     book_id preliminary_decision  \\\n",
       "0          1               accept   \n",
       "1          2               accept   \n",
       "2          3               accept   \n",
       "3          4               accept   \n",
       "4          5               accept   \n",
       "..       ...                  ...   \n",
       "167      168               accept   \n",
       "168      169               accept   \n",
       "169      170               reject   \n",
       "170      171               accept   \n",
       "171      172          no decision   \n",
       "\n",
       "                                                review  \n",
       "0    [{'confidence': '4', 'evaluation': '1', 'id': ...  \n",
       "1    [{'confidence': '4', 'evaluation': '2', 'id': ...  \n",
       "2    [{'confidence': '4', 'evaluation': '2', 'id': ...  \n",
       "3    [{'confidence': '4', 'evaluation': '2', 'id': ...  \n",
       "4    [{'confidence': '4', 'evaluation': '2', 'id': ...  \n",
       "..                                                 ...  \n",
       "167  [{'confidence': '3', 'evaluation': '2', 'id': ...  \n",
       "168  [{'confidence': '3', 'evaluation': '1', 'id': ...  \n",
       "169  [{'confidence': '5', 'evaluation': '-1', 'id':...  \n",
       "170  [{'confidence': '4', 'evaluation': '-1', 'id':...  \n",
       "171  [{'confidence': '4', 'evaluation': '1', 'id': ...  \n",
       "\n",
       "[172 rows x 3 columns]"
      ]
     },
     "execution_count": 3,
     "metadata": {},
     "output_type": "execute_result"
    }
   ],
   "source": [
    "df1 = pd.read_csv('decision.csv', index_col = 0)\n",
    "\n",
    "df1"
   ]
  },
  {
   "cell_type": "code",
   "execution_count": 4,
   "metadata": {},
   "outputs": [
    {
     "data": {
      "text/plain": [
       "accept             115\n",
       "reject              48\n",
       "probably reject      7\n",
       "no decision          2\n",
       "Name: preliminary_decision, dtype: int64"
      ]
     },
     "execution_count": 4,
     "metadata": {},
     "output_type": "execute_result"
    }
   ],
   "source": [
    "df1.preliminary_decision.value_counts()"
   ]
  },
  {
   "cell_type": "code",
   "execution_count": 5,
   "metadata": {},
   "outputs": [
    {
     "name": "stdout",
     "output_type": "stream",
     "text": [
      "accept             66.86\n",
      "reject             27.91\n",
      "probably reject     4.07\n",
      "no decision         1.16\n",
      "Name: preliminary_decision, dtype: float64\n"
     ]
    },
    {
     "data": {
      "text/plain": [
       "<function matplotlib.pyplot.show(close=None, block=None)>"
      ]
     },
     "execution_count": 5,
     "metadata": {},
     "output_type": "execute_result"
    },
    {
     "data": {
      "image/png": "[encoded data removed]",
      "text/plain": [
       "<Figure size 432x288 with 1 Axes>"
      ]
     },
     "metadata": {
      "needs_background": "light"
     },
     "output_type": "display_data"
    }
   ],
   "source": [
    "# Normalize and Plot  the preliminary decision\n",
    "print(round(df1.preliminary_decision.value_counts(normalize=True)*100, 2))\n",
    "round(df1.preliminary_decision.value_counts(normalize=True)*100, 2).plot(kind='bar')\n",
    "plt.title('Percentage preliminary decision by book reviews')\n",
    "plt.show\n"
   ]
  },
  {
   "cell_type": "code",
   "execution_count": 6,
   "metadata": {},
   "outputs": [
    {
     "data": {
      "text/html": [
       "<div>\n",
       "<style scoped>\n",
       "    .dataframe tbody tr th:only-of-type {\n",
       "        vertical-align: middle;\n",
       "    }\n",
       "\n",
       "    .dataframe tbody tr th {\n",
       "        vertical-align: top;\n",
       "    }\n",
       "\n",
       "    .dataframe thead th {\n",
       "        text-align: right;\n",
       "    }\n",
       "</style>\n",
       "<table border=\"1\" class=\"dataframe\">\n",
       "  <thead>\n",
       "    <tr style=\"text-align: right;\">\n",
       "      <th></th>\n",
       "      <th>level_0</th>\n",
       "      <th>confidence</th>\n",
       "      <th>evaluation</th>\n",
       "      <th>id</th>\n",
       "      <th>lan</th>\n",
       "      <th>orientation</th>\n",
       "      <th>remarks</th>\n",
       "      <th>text</th>\n",
       "      <th>timespan</th>\n",
       "      <th>length</th>\n",
       "      <th>new_text</th>\n",
       "      <th>Lemma_text</th>\n",
       "      <th>Lemma_length</th>\n",
       "    </tr>\n",
       "  </thead>\n",
       "  <tbody>\n",
       "    <tr>\n",
       "      <th>0</th>\n",
       "      <td>0</td>\n",
       "      <td>4.0</td>\n",
       "      <td>1</td>\n",
       "      <td>1</td>\n",
       "      <td>es</td>\n",
       "      <td>0</td>\n",
       "      <td>NaN</td>\n",
       "      <td>- El artículo aborda un problema contingente y...</td>\n",
       "      <td>2010-07-05</td>\n",
       "      <td>575</td>\n",
       "      <td>artículo aborda problema contingente y relevan...</td>\n",
       "      <td>artículo abordo problema contingente y relevan...</td>\n",
       "      <td>331</td>\n",
       "    </tr>\n",
       "    <tr>\n",
       "      <th>1</th>\n",
       "      <td>0</td>\n",
       "      <td>4.0</td>\n",
       "      <td>1</td>\n",
       "      <td>2</td>\n",
       "      <td>es</td>\n",
       "      <td>1</td>\n",
       "      <td>NaN</td>\n",
       "      <td>El artículo presenta recomendaciones prácticas...</td>\n",
       "      <td>2010-07-05</td>\n",
       "      <td>618</td>\n",
       "      <td>artículo presenta recomendaciones prácticas de...</td>\n",
       "      <td>artículo presentar recomendación práctico desa...</td>\n",
       "      <td>433</td>\n",
       "    </tr>\n",
       "    <tr>\n",
       "      <th>2</th>\n",
       "      <td>0</td>\n",
       "      <td>5.0</td>\n",
       "      <td>1</td>\n",
       "      <td>3</td>\n",
       "      <td>es</td>\n",
       "      <td>1</td>\n",
       "      <td>NaN</td>\n",
       "      <td>- El tema es muy interesante y puede ser de mu...</td>\n",
       "      <td>2010-07-05</td>\n",
       "      <td>1259</td>\n",
       "      <td>tema interesante y ayuda guía incorporar práct...</td>\n",
       "      <td>tema interesante y ayuda guío incorporar práct...</td>\n",
       "      <td>731</td>\n",
       "    </tr>\n",
       "    <tr>\n",
       "      <th>3</th>\n",
       "      <td>1</td>\n",
       "      <td>4.0</td>\n",
       "      <td>2</td>\n",
       "      <td>1</td>\n",
       "      <td>es</td>\n",
       "      <td>1</td>\n",
       "      <td>NaN</td>\n",
       "      <td>Se explica en forma ordenada y didáctica una e...</td>\n",
       "      <td>2010-07-05</td>\n",
       "      <td>1350</td>\n",
       "      <td>explica forma ordenada y didáctica experiencia...</td>\n",
       "      <td>explicar forma ordenado y didáctico experienci...</td>\n",
       "      <td>911</td>\n",
       "    </tr>\n",
       "    <tr>\n",
       "      <th>4</th>\n",
       "      <td>1</td>\n",
       "      <td>4.0</td>\n",
       "      <td>2</td>\n",
       "      <td>3</td>\n",
       "      <td>es</td>\n",
       "      <td>0</td>\n",
       "      <td>NaN</td>\n",
       "      <td>Los autores describen una metodología para des...</td>\n",
       "      <td>2010-07-05</td>\n",
       "      <td>1938</td>\n",
       "      <td>autores describen metodología desarrollar form...</td>\n",
       "      <td>autor describir metodología desarrollar forma ...</td>\n",
       "      <td>1178</td>\n",
       "    </tr>\n",
       "    <tr>\n",
       "      <th>...</th>\n",
       "      <td>...</td>\n",
       "      <td>...</td>\n",
       "      <td>...</td>\n",
       "      <td>...</td>\n",
       "      <td>...</td>\n",
       "      <td>...</td>\n",
       "      <td>...</td>\n",
       "      <td>...</td>\n",
       "      <td>...</td>\n",
       "      <td>...</td>\n",
       "      <td>...</td>\n",
       "      <td>...</td>\n",
       "      <td>...</td>\n",
       "    </tr>\n",
       "    <tr>\n",
       "      <th>394</th>\n",
       "      <td>169</td>\n",
       "      <td>5.0</td>\n",
       "      <td>-1</td>\n",
       "      <td>1</td>\n",
       "      <td>es</td>\n",
       "      <td>-2</td>\n",
       "      <td>NaN</td>\n",
       "      <td>El trabajo pretende ofrecer una visión del uso...</td>\n",
       "      <td>2015-07-05</td>\n",
       "      <td>684</td>\n",
       "      <td>pretende ofrecer visión herramientas eva entor...</td>\n",
       "      <td>pretender ofrecer visión herramienta eva entor...</td>\n",
       "      <td>357</td>\n",
       "    </tr>\n",
       "    <tr>\n",
       "      <th>395</th>\n",
       "      <td>169</td>\n",
       "      <td>4.0</td>\n",
       "      <td>-1</td>\n",
       "      <td>2</td>\n",
       "      <td>es</td>\n",
       "      <td>-1</td>\n",
       "      <td>NaN</td>\n",
       "      <td>El paper está bien escrito y de fácil lectura....</td>\n",
       "      <td>2015-07-05</td>\n",
       "      <td>576</td>\n",
       "      <td>paper escrito y fácil lectura ajusta formato e...</td>\n",
       "      <td>paper escrito y fácil lectura ajusto formato e...</td>\n",
       "      <td>359</td>\n",
       "    </tr>\n",
       "    <tr>\n",
       "      <th>396</th>\n",
       "      <td>170</td>\n",
       "      <td>4.0</td>\n",
       "      <td>-1</td>\n",
       "      <td>1</td>\n",
       "      <td>es</td>\n",
       "      <td>0</td>\n",
       "      <td>NaN</td>\n",
       "      <td>Observación de fondo:  No se presenta un ejemp...</td>\n",
       "      <td>2015-07-05</td>\n",
       "      <td>831</td>\n",
       "      <td>observación fondo presenta implementación inte...</td>\n",
       "      <td>observación fondo presentar implementación int...</td>\n",
       "      <td>469</td>\n",
       "    </tr>\n",
       "    <tr>\n",
       "      <th>397</th>\n",
       "      <td>170</td>\n",
       "      <td>3.0</td>\n",
       "      <td>1</td>\n",
       "      <td>2</td>\n",
       "      <td>es</td>\n",
       "      <td>-1</td>\n",
       "      <td>NaN</td>\n",
       "      <td>Se propone un procedimiento para elaborar máqu...</td>\n",
       "      <td>2015-07-05</td>\n",
       "      <td>472</td>\n",
       "      <td>propone procedimiento elaborar máquinas dispos...</td>\n",
       "      <td>proponer procedimiento elaborar máquina dispos...</td>\n",
       "      <td>292</td>\n",
       "    </tr>\n",
       "    <tr>\n",
       "      <th>398</th>\n",
       "      <td>171</td>\n",
       "      <td>4.0</td>\n",
       "      <td>1</td>\n",
       "      <td>1</td>\n",
       "      <td>es</td>\n",
       "      <td>-1</td>\n",
       "      <td>NaN</td>\n",
       "      <td>El artículo describe básicamente los component...</td>\n",
       "      <td>2015-07-05</td>\n",
       "      <td>639</td>\n",
       "      <td>artículo describe básicamente componentes aero...</td>\n",
       "      <td>artículo describir básicamente componente aero...</td>\n",
       "      <td>406</td>\n",
       "    </tr>\n",
       "  </tbody>\n",
       "</table>\n",
       "<p>382 rows × 13 columns</p>\n",
       "</div>"
      ],
      "text/plain": [
       "     level_0  confidence  evaluation  id lan  orientation remarks  \\\n",
       "0          0         4.0           1   1  es            0     NaN   \n",
       "1          0         4.0           1   2  es            1     NaN   \n",
       "2          0         5.0           1   3  es            1     NaN   \n",
       "3          1         4.0           2   1  es            1     NaN   \n",
       "4          1         4.0           2   3  es            0     NaN   \n",
       "..       ...         ...         ...  ..  ..          ...     ...   \n",
       "394      169         5.0          -1   1  es           -2     NaN   \n",
       "395      169         4.0          -1   2  es           -1     NaN   \n",
       "396      170         4.0          -1   1  es            0     NaN   \n",
       "397      170         3.0           1   2  es           -1     NaN   \n",
       "398      171         4.0           1   1  es           -1     NaN   \n",
       "\n",
       "                                                  text    timespan  length  \\\n",
       "0    - El artículo aborda un problema contingente y...  2010-07-05     575   \n",
       "1    El artículo presenta recomendaciones prácticas...  2010-07-05     618   \n",
       "2    - El tema es muy interesante y puede ser de mu...  2010-07-05    1259   \n",
       "3    Se explica en forma ordenada y didáctica una e...  2010-07-05    1350   \n",
       "4    Los autores describen una metodología para des...  2010-07-05    1938   \n",
       "..                                                 ...         ...     ...   \n",
       "394  El trabajo pretende ofrecer una visión del uso...  2015-07-05     684   \n",
       "395  El paper está bien escrito y de fácil lectura....  2015-07-05     576   \n",
       "396  Observación de fondo:  No se presenta un ejemp...  2015-07-05     831   \n",
       "397  Se propone un procedimiento para elaborar máqu...  2015-07-05     472   \n",
       "398  El artículo describe básicamente los component...  2015-07-05     639   \n",
       "\n",
       "                                              new_text  \\\n",
       "0    artículo aborda problema contingente y relevan...   \n",
       "1    artículo presenta recomendaciones prácticas de...   \n",
       "2    tema interesante y ayuda guía incorporar práct...   \n",
       "3    explica forma ordenada y didáctica experiencia...   \n",
       "4    autores describen metodología desarrollar form...   \n",
       "..                                                 ...   \n",
       "394  pretende ofrecer visión herramientas eva entor...   \n",
       "395  paper escrito y fácil lectura ajusta formato e...   \n",
       "396  observación fondo presenta implementación inte...   \n",
       "397  propone procedimiento elaborar máquinas dispos...   \n",
       "398  artículo describe básicamente componentes aero...   \n",
       "\n",
       "                                            Lemma_text  Lemma_length  \n",
       "0    artículo abordo problema contingente y relevan...           331  \n",
       "1    artículo presentar recomendación práctico desa...           433  \n",
       "2    tema interesante y ayuda guío incorporar práct...           731  \n",
       "3    explicar forma ordenado y didáctico experienci...           911  \n",
       "4    autor describir metodología desarrollar forma ...          1178  \n",
       "..                                                 ...           ...  \n",
       "394  pretender ofrecer visión herramienta eva entor...           357  \n",
       "395  paper escrito y fácil lectura ajusto formato e...           359  \n",
       "396  observación fondo presentar implementación int...           469  \n",
       "397  proponer procedimiento elaborar máquina dispos...           292  \n",
       "398  artículo describir básicamente componente aero...           406  \n",
       "\n",
       "[382 rows x 13 columns]"
      ]
     },
     "execution_count": 6,
     "metadata": {},
     "output_type": "execute_result"
    }
   ],
   "source": [
    "# Read the lemmatize CSV file into a dataframe\n",
    "\n",
    "df2 = pd.read_csv('lemma.csv', index_col = 0)\n",
    "\n",
    "df2"
   ]
  },
  {
   "cell_type": "code",
   "execution_count": 7,
   "metadata": {},
   "outputs": [
    {
     "data": {
      "text/plain": [
       "level_0           int64\n",
       "confidence      float64\n",
       "evaluation        int64\n",
       "id                int64\n",
       "lan              object\n",
       "orientation       int64\n",
       "remarks          object\n",
       "text             object\n",
       "timespan         object\n",
       "length            int64\n",
       "new_text         object\n",
       "Lemma_text       object\n",
       "Lemma_length      int64\n",
       "dtype: object"
      ]
     },
     "execution_count": 7,
     "metadata": {},
     "output_type": "execute_result"
    }
   ],
   "source": [
    "df2.dtypes"
   ]
  },
  {
   "cell_type": "code",
   "execution_count": 8,
   "metadata": {},
   "outputs": [
    {
     "data": {
      "text/html": [
       "<div>\n",
       "<style scoped>\n",
       "    .dataframe tbody tr th:only-of-type {\n",
       "        vertical-align: middle;\n",
       "    }\n",
       "\n",
       "    .dataframe tbody tr th {\n",
       "        vertical-align: top;\n",
       "    }\n",
       "\n",
       "    .dataframe thead th {\n",
       "        text-align: right;\n",
       "    }\n",
       "</style>\n",
       "<table border=\"1\" class=\"dataframe\">\n",
       "  <thead>\n",
       "    <tr style=\"text-align: right;\">\n",
       "      <th></th>\n",
       "      <th>level_0</th>\n",
       "      <th>confidence</th>\n",
       "      <th>evaluation</th>\n",
       "      <th>id</th>\n",
       "      <th>lan</th>\n",
       "      <th>orientation</th>\n",
       "      <th>remarks</th>\n",
       "      <th>text</th>\n",
       "      <th>timespan</th>\n",
       "      <th>length</th>\n",
       "      <th>new_text</th>\n",
       "      <th>Lemma_text</th>\n",
       "      <th>Lemma_length</th>\n",
       "    </tr>\n",
       "  </thead>\n",
       "  <tbody>\n",
       "    <tr>\n",
       "      <th>count</th>\n",
       "      <td>382.000000</td>\n",
       "      <td>380.000000</td>\n",
       "      <td>382.000000</td>\n",
       "      <td>382.000000</td>\n",
       "      <td>382</td>\n",
       "      <td>382.000000</td>\n",
       "      <td>109</td>\n",
       "      <td>382</td>\n",
       "      <td>382</td>\n",
       "      <td>382.000000</td>\n",
       "      <td>382</td>\n",
       "      <td>382</td>\n",
       "      <td>382.000000</td>\n",
       "    </tr>\n",
       "    <tr>\n",
       "      <th>unique</th>\n",
       "      <td>NaN</td>\n",
       "      <td>NaN</td>\n",
       "      <td>NaN</td>\n",
       "      <td>NaN</td>\n",
       "      <td>1</td>\n",
       "      <td>NaN</td>\n",
       "      <td>106</td>\n",
       "      <td>382</td>\n",
       "      <td>4</td>\n",
       "      <td>NaN</td>\n",
       "      <td>382</td>\n",
       "      <td>382</td>\n",
       "      <td>NaN</td>\n",
       "    </tr>\n",
       "    <tr>\n",
       "      <th>top</th>\n",
       "      <td>NaN</td>\n",
       "      <td>NaN</td>\n",
       "      <td>NaN</td>\n",
       "      <td>NaN</td>\n",
       "      <td>es</td>\n",
       "      <td>NaN</td>\n",
       "      <td>Claramente se trata de un artículo académico r...</td>\n",
       "      <td>El manuscrito involucra el uso de GPU, tecnolo...</td>\n",
       "      <td>2014-07-05</td>\n",
       "      <td>NaN</td>\n",
       "      <td>artículo realiza estudio bibliográfico interes...</td>\n",
       "      <td>general recomeir cambio título artículo realme...</td>\n",
       "      <td>NaN</td>\n",
       "    </tr>\n",
       "    <tr>\n",
       "      <th>freq</th>\n",
       "      <td>NaN</td>\n",
       "      <td>NaN</td>\n",
       "      <td>NaN</td>\n",
       "      <td>NaN</td>\n",
       "      <td>382</td>\n",
       "      <td>NaN</td>\n",
       "      <td>2</td>\n",
       "      <td>1</td>\n",
       "      <td>125</td>\n",
       "      <td>NaN</td>\n",
       "      <td>1</td>\n",
       "      <td>1</td>\n",
       "      <td>NaN</td>\n",
       "    </tr>\n",
       "    <tr>\n",
       "      <th>mean</th>\n",
       "      <td>86.065445</td>\n",
       "      <td>3.568421</td>\n",
       "      <td>0.133508</td>\n",
       "      <td>1.832461</td>\n",
       "      <td>NaN</td>\n",
       "      <td>-0.225131</td>\n",
       "      <td>NaN</td>\n",
       "      <td>NaN</td>\n",
       "      <td>NaN</td>\n",
       "      <td>1033.162304</td>\n",
       "      <td>NaN</td>\n",
       "      <td>NaN</td>\n",
       "      <td>626.633508</td>\n",
       "    </tr>\n",
       "    <tr>\n",
       "      <th>std</th>\n",
       "      <td>48.741252</td>\n",
       "      <td>0.858330</td>\n",
       "      <td>1.509542</td>\n",
       "      <td>0.824935</td>\n",
       "      <td>NaN</td>\n",
       "      <td>1.035636</td>\n",
       "      <td>NaN</td>\n",
       "      <td>NaN</td>\n",
       "      <td>NaN</td>\n",
       "      <td>838.710628</td>\n",
       "      <td>NaN</td>\n",
       "      <td>NaN</td>\n",
       "      <td>508.330644</td>\n",
       "    </tr>\n",
       "    <tr>\n",
       "      <th>min</th>\n",
       "      <td>0.000000</td>\n",
       "      <td>1.000000</td>\n",
       "      <td>-2.000000</td>\n",
       "      <td>1.000000</td>\n",
       "      <td>NaN</td>\n",
       "      <td>-2.000000</td>\n",
       "      <td>NaN</td>\n",
       "      <td>NaN</td>\n",
       "      <td>NaN</td>\n",
       "      <td>41.000000</td>\n",
       "      <td>NaN</td>\n",
       "      <td>NaN</td>\n",
       "      <td>13.000000</td>\n",
       "    </tr>\n",
       "    <tr>\n",
       "      <th>25%</th>\n",
       "      <td>41.000000</td>\n",
       "      <td>3.000000</td>\n",
       "      <td>-1.000000</td>\n",
       "      <td>1.000000</td>\n",
       "      <td>NaN</td>\n",
       "      <td>-1.000000</td>\n",
       "      <td>NaN</td>\n",
       "      <td>NaN</td>\n",
       "      <td>NaN</td>\n",
       "      <td>493.250000</td>\n",
       "      <td>NaN</td>\n",
       "      <td>NaN</td>\n",
       "      <td>307.000000</td>\n",
       "    </tr>\n",
       "    <tr>\n",
       "      <th>50%</th>\n",
       "      <td>92.500000</td>\n",
       "      <td>4.000000</td>\n",
       "      <td>0.000000</td>\n",
       "      <td>2.000000</td>\n",
       "      <td>NaN</td>\n",
       "      <td>0.000000</td>\n",
       "      <td>NaN</td>\n",
       "      <td>NaN</td>\n",
       "      <td>NaN</td>\n",
       "      <td>814.500000</td>\n",
       "      <td>NaN</td>\n",
       "      <td>NaN</td>\n",
       "      <td>492.000000</td>\n",
       "    </tr>\n",
       "    <tr>\n",
       "      <th>75%</th>\n",
       "      <td>125.750000</td>\n",
       "      <td>4.000000</td>\n",
       "      <td>2.000000</td>\n",
       "      <td>2.000000</td>\n",
       "      <td>NaN</td>\n",
       "      <td>1.000000</td>\n",
       "      <td>NaN</td>\n",
       "      <td>NaN</td>\n",
       "      <td>NaN</td>\n",
       "      <td>1326.250000</td>\n",
       "      <td>NaN</td>\n",
       "      <td>NaN</td>\n",
       "      <td>797.000000</td>\n",
       "    </tr>\n",
       "    <tr>\n",
       "      <th>max</th>\n",
       "      <td>171.000000</td>\n",
       "      <td>5.000000</td>\n",
       "      <td>2.000000</td>\n",
       "      <td>4.000000</td>\n",
       "      <td>NaN</td>\n",
       "      <td>2.000000</td>\n",
       "      <td>NaN</td>\n",
       "      <td>NaN</td>\n",
       "      <td>NaN</td>\n",
       "      <td>6345.000000</td>\n",
       "      <td>NaN</td>\n",
       "      <td>NaN</td>\n",
       "      <td>3865.000000</td>\n",
       "    </tr>\n",
       "  </tbody>\n",
       "</table>\n",
       "</div>"
      ],
      "text/plain": [
       "           level_0  confidence  evaluation          id  lan  orientation  \\\n",
       "count   382.000000  380.000000  382.000000  382.000000  382   382.000000   \n",
       "unique         NaN         NaN         NaN         NaN    1          NaN   \n",
       "top            NaN         NaN         NaN         NaN   es          NaN   \n",
       "freq           NaN         NaN         NaN         NaN  382          NaN   \n",
       "mean     86.065445    3.568421    0.133508    1.832461  NaN    -0.225131   \n",
       "std      48.741252    0.858330    1.509542    0.824935  NaN     1.035636   \n",
       "min       0.000000    1.000000   -2.000000    1.000000  NaN    -2.000000   \n",
       "25%      41.000000    3.000000   -1.000000    1.000000  NaN    -1.000000   \n",
       "50%      92.500000    4.000000    0.000000    2.000000  NaN     0.000000   \n",
       "75%     125.750000    4.000000    2.000000    2.000000  NaN     1.000000   \n",
       "max     171.000000    5.000000    2.000000    4.000000  NaN     2.000000   \n",
       "\n",
       "                                                  remarks  \\\n",
       "count                                                 109   \n",
       "unique                                                106   \n",
       "top     Claramente se trata de un artículo académico r...   \n",
       "freq                                                    2   \n",
       "mean                                                  NaN   \n",
       "std                                                   NaN   \n",
       "min                                                   NaN   \n",
       "25%                                                   NaN   \n",
       "50%                                                   NaN   \n",
       "75%                                                   NaN   \n",
       "max                                                   NaN   \n",
       "\n",
       "                                                     text    timespan  \\\n",
       "count                                                 382         382   \n",
       "unique                                                382           4   \n",
       "top     El manuscrito involucra el uso de GPU, tecnolo...  2014-07-05   \n",
       "freq                                                    1         125   \n",
       "mean                                                  NaN         NaN   \n",
       "std                                                   NaN         NaN   \n",
       "min                                                   NaN         NaN   \n",
       "25%                                                   NaN         NaN   \n",
       "50%                                                   NaN         NaN   \n",
       "75%                                                   NaN         NaN   \n",
       "max                                                   NaN         NaN   \n",
       "\n",
       "             length                                           new_text  \\\n",
       "count    382.000000                                                382   \n",
       "unique          NaN                                                382   \n",
       "top             NaN  artículo realiza estudio bibliográfico interes...   \n",
       "freq            NaN                                                  1   \n",
       "mean    1033.162304                                                NaN   \n",
       "std      838.710628                                                NaN   \n",
       "min       41.000000                                                NaN   \n",
       "25%      493.250000                                                NaN   \n",
       "50%      814.500000                                                NaN   \n",
       "75%     1326.250000                                                NaN   \n",
       "max     6345.000000                                                NaN   \n",
       "\n",
       "                                               Lemma_text  Lemma_length  \n",
       "count                                                 382    382.000000  \n",
       "unique                                                382           NaN  \n",
       "top     general recomeir cambio título artículo realme...           NaN  \n",
       "freq                                                    1           NaN  \n",
       "mean                                                  NaN    626.633508  \n",
       "std                                                   NaN    508.330644  \n",
       "min                                                   NaN     13.000000  \n",
       "25%                                                   NaN    307.000000  \n",
       "50%                                                   NaN    492.000000  \n",
       "75%                                                   NaN    797.000000  \n",
       "max                                                   NaN   3865.000000  "
      ]
     },
     "execution_count": 8,
     "metadata": {},
     "output_type": "execute_result"
    }
   ],
   "source": [
    "# Analytical summary \n",
    "\n",
    "df2.describe(include= 'all')"
   ]
  },
  {
   "cell_type": "code",
   "execution_count": 9,
   "metadata": {},
   "outputs": [
    {
     "data": {
      "text/plain": [
       "array([[<AxesSubplot:title={'center':'level_0'}>,\n",
       "        <AxesSubplot:title={'center':'confidence'}>,\n",
       "        <AxesSubplot:title={'center':'evaluation'}>],\n",
       "       [<AxesSubplot:title={'center':'id'}>,\n",
       "        <AxesSubplot:title={'center':'orientation'}>,\n",
       "        <AxesSubplot:title={'center':'length'}>],\n",
       "       [<AxesSubplot:title={'center':'Lemma_length'}>, <AxesSubplot:>,\n",
       "        <AxesSubplot:>]], dtype=object)"
      ]
     },
     "execution_count": 9,
     "metadata": {},
     "output_type": "execute_result"
    },
    {
     "data": {
      "image/png": "[encoded data removed]",
      "text/plain": [
       "<Figure size 1440x1440 with 9 Axes>"
      ]
     },
     "metadata": {
      "needs_background": "light"
     },
     "output_type": "display_data"
    }
   ],
   "source": [
    "# Histogramm\n",
    "\n",
    "df2.hist(figsize = (20, 20))"
   ]
  },
  {
   "cell_type": "code",
   "execution_count": 10,
   "metadata": {},
   "outputs": [
    {
     "data": {
      "text/plain": [
       "<AxesSubplot:xlabel='Lemma_length'>"
      ]
     },
     "execution_count": 10,
     "metadata": {},
     "output_type": "execute_result"
    },
    {
     "data": {
      "image/png": "[encoded data removed]",
      "text/plain": [
       "<Figure size 432x288 with 1 Axes>"
      ]
     },
     "metadata": {
      "needs_background": "light"
     },
     "output_type": "display_data"
    }
   ],
   "source": [
    "# finding outlier in the texts'length\n",
    "sns.boxplot(x = df2['Lemma_length'])"
   ]
  },
  {
   "cell_type": "code",
   "execution_count": 11,
   "metadata": {},
   "outputs": [
    {
     "data": {
      "text/html": [
       "<div>\n",
       "<style scoped>\n",
       "    .dataframe tbody tr th:only-of-type {\n",
       "        vertical-align: middle;\n",
       "    }\n",
       "\n",
       "    .dataframe tbody tr th {\n",
       "        vertical-align: top;\n",
       "    }\n",
       "\n",
       "    .dataframe thead th {\n",
       "        text-align: right;\n",
       "    }\n",
       "</style>\n",
       "<table border=\"1\" class=\"dataframe\">\n",
       "  <thead>\n",
       "    <tr style=\"text-align: right;\">\n",
       "      <th></th>\n",
       "      <th>confidence</th>\n",
       "      <th>evaluation</th>\n",
       "      <th>orientation</th>\n",
       "      <th>Lemma_length</th>\n",
       "    </tr>\n",
       "  </thead>\n",
       "  <tbody>\n",
       "    <tr>\n",
       "      <th>confidence</th>\n",
       "      <td>1.000000</td>\n",
       "      <td>-0.042972</td>\n",
       "      <td>-0.063010</td>\n",
       "      <td>0.048558</td>\n",
       "    </tr>\n",
       "    <tr>\n",
       "      <th>evaluation</th>\n",
       "      <td>-0.042972</td>\n",
       "      <td>1.000000</td>\n",
       "      <td>0.773099</td>\n",
       "      <td>-0.249051</td>\n",
       "    </tr>\n",
       "    <tr>\n",
       "      <th>orientation</th>\n",
       "      <td>-0.063010</td>\n",
       "      <td>0.773099</td>\n",
       "      <td>1.000000</td>\n",
       "      <td>-0.243826</td>\n",
       "    </tr>\n",
       "    <tr>\n",
       "      <th>Lemma_length</th>\n",
       "      <td>0.048558</td>\n",
       "      <td>-0.249051</td>\n",
       "      <td>-0.243826</td>\n",
       "      <td>1.000000</td>\n",
       "    </tr>\n",
       "  </tbody>\n",
       "</table>\n",
       "</div>"
      ],
      "text/plain": [
       "              confidence  evaluation  orientation  Lemma_length\n",
       "confidence      1.000000   -0.042972    -0.063010      0.048558\n",
       "evaluation     -0.042972    1.000000     0.773099     -0.249051\n",
       "orientation    -0.063010    0.773099     1.000000     -0.243826\n",
       "Lemma_length    0.048558   -0.249051    -0.243826      1.000000"
      ]
     },
     "execution_count": 11,
     "metadata": {},
     "output_type": "execute_result"
    },
    {
     "data": {
      "image/png": "[encoded data removed]",
      "text/plain": [
       "<Figure size 504x432 with 2 Axes>"
      ]
     },
     "metadata": {
      "needs_background": "light"
     },
     "output_type": "display_data"
    }
   ],
   "source": [
    "# Finding relationship between the variables\n",
    "plt.figure(figsize=(7,6))\n",
    "rel = df2[['confidence','evaluation', 'orientation', 'Lemma_length']].corr()\n",
    "sns.heatmap(rel, cmap = \"YlGnBu\", annot=True)\n",
    "rel"
   ]
  },
  {
   "cell_type": "code",
   "execution_count": 12,
   "metadata": {},
   "outputs": [],
   "source": [
    "## 0.77, show us that there is a high and positive correlation between \"Orientation\" and \"evaluation\""
   ]
  },
  {
   "cell_type": "code",
   "execution_count": 13,
   "metadata": {},
   "outputs": [
    {
     "data": {
      "text/plain": [
       "<matplotlib.legend.Legend at 0x28f04b76460>"
      ]
     },
     "execution_count": 13,
     "metadata": {},
     "output_type": "execute_result"
    },
    {
     "data": {
      "image/png": "[encoded data removed]",
      "text/plain": [
       "<Figure size 576x432 with 1 Axes>"
      ]
     },
     "metadata": {
      "needs_background": "light"
     },
     "output_type": "display_data"
    }
   ],
   "source": [
    "# Years plot\n",
    "\n",
    "df2[[\"confidence\", \"evaluation\", \"orientation\", \"remarks\", \"text\", \"Lemma_text\"]].groupby([df2['timespan']]).count().plot(kind='line', figsize = (8,6))\n",
    "plt.legend(bbox_to_anchor=(1, 0.5), loc=1, borderaxespad=0)"
   ]
  },
  {
   "cell_type": "code",
   "execution_count": 14,
   "metadata": {},
   "outputs": [
    {
     "data": {
      "text/plain": [
       "<AxesSubplot:xlabel='timespan', ylabel='count'>"
      ]
     },
     "execution_count": 14,
     "metadata": {},
     "output_type": "execute_result"
    },
    {
     "data": {
      "image/png": "[encoded data removed]",
      "text/plain": [
       "<Figure size 432x288 with 1 Axes>"
      ]
     },
     "metadata": {
      "needs_background": "light"
     },
     "output_type": "display_data"
    }
   ],
   "source": [
    "#Estimate the number of reviews per year\n",
    "\n",
    "sns.countplot(x ='timespan', data = df2)"
   ]
  },
  {
   "cell_type": "code",
   "execution_count": 15,
   "metadata": {},
   "outputs": [
    {
     "name": "stdout",
     "output_type": "stream",
     "text": [
      "4.0    43.16\n",
      "3.0    36.05\n",
      "5.0    12.11\n",
      "2.0     6.84\n",
      "1.0     1.84\n",
      "Name: confidence, dtype: float64\n"
     ]
    },
    {
     "data": {
      "text/plain": [
       "<function matplotlib.pyplot.show(close=None, block=None)>"
      ]
     },
     "execution_count": 15,
     "metadata": {},
     "output_type": "execute_result"
    },
    {
     "data": {
      "image/png": "[encoded data removed]",
      "text/plain": [
       "<Figure size 432x288 with 1 Axes>"
      ]
     },
     "metadata": {
      "needs_background": "light"
     },
     "output_type": "display_data"
    }
   ],
   "source": [
    "# # Checking 'confidence' column\n",
    "print(round(df2.confidence.value_counts(normalize=True)*100, 2))\n",
    "round(df2.confidence.value_counts(normalize=True)*100, 2).plot(kind='bar')\n",
    "plt.title('Percentage of confidence')\n",
    "plt.show"
   ]
  },
  {
   "cell_type": "code",
   "execution_count": 16,
   "metadata": {},
   "outputs": [
    {
     "name": "stdout",
     "output_type": "stream",
     "text": [
      " 2    25.92\n",
      "-2    22.25\n",
      " 1    21.20\n",
      " 0    15.45\n",
      "-1    15.18\n",
      "Name: evaluation, dtype: float64\n"
     ]
    },
    {
     "data": {
      "text/plain": [
       "<function matplotlib.pyplot.show(close=None, block=None)>"
      ]
     },
     "execution_count": 16,
     "metadata": {},
     "output_type": "execute_result"
    },
    {
     "data": {
      "image/png": "[encoded data removed]",
      "text/plain": [
       "<Figure size 432x288 with 1 Axes>"
      ]
     },
     "metadata": {
      "needs_background": "light"
     },
     "output_type": "display_data"
    }
   ],
   "source": [
    "# Checking the 'evaluation' colums\n",
    "print(round(df2.evaluation.value_counts(normalize=True)*100, 2))\n",
    "round(df2.evaluation.value_counts(normalize=True)*100, 2).plot(kind='bar')\n",
    "plt.title('Percentage of evaluation')\n",
    "plt.show"
   ]
  },
  {
   "cell_type": "code",
   "execution_count": 17,
   "metadata": {},
   "outputs": [
    {
     "name": "stdout",
     "output_type": "stream",
     "text": [
      "-1    35.86\n",
      " 0    27.23\n",
      " 1    23.82\n",
      "-2     9.16\n",
      " 2     3.93\n",
      "Name: orientation, dtype: float64\n"
     ]
    },
    {
     "data": {
      "text/plain": [
       "<function matplotlib.pyplot.show(close=None, block=None)>"
      ]
     },
     "execution_count": 17,
     "metadata": {},
     "output_type": "execute_result"
    },
    {
     "data": {
      "image/png": "[encoded data removed]",
      "text/plain": [
       "<Figure size 432x288 with 1 Axes>"
      ]
     },
     "metadata": {
      "needs_background": "light"
     },
     "output_type": "display_data"
    }
   ],
   "source": [
    "# Checking the 'orientation' column\n",
    "print(round(df2.orientation.value_counts(normalize=True)*100, 2))\n",
    "round(df2.orientation.value_counts(normalize=True)*100, 2).plot(kind='bar')\n",
    "plt.title('Percentage of orientation')\n",
    "plt.show"
   ]
  },
  {
   "cell_type": "markdown",
   "metadata": {},
   "source": [
    "### Predict the preliminare_decision"
   ]
  },
  {
   "cell_type": "code",
   "execution_count": 18,
   "metadata": {},
   "outputs": [],
   "source": [
    "# Extract 2 columns: level_0 and Lemma_text"
   ]
  },
  {
   "cell_type": "code",
   "execution_count": 19,
   "metadata": {},
   "outputs": [
    {
     "data": {
      "text/html": [
       "<div>\n",
       "<style scoped>\n",
       "    .dataframe tbody tr th:only-of-type {\n",
       "        vertical-align: middle;\n",
       "    }\n",
       "\n",
       "    .dataframe tbody tr th {\n",
       "        vertical-align: top;\n",
       "    }\n",
       "\n",
       "    .dataframe thead th {\n",
       "        text-align: right;\n",
       "    }\n",
       "</style>\n",
       "<table border=\"1\" class=\"dataframe\">\n",
       "  <thead>\n",
       "    <tr style=\"text-align: right;\">\n",
       "      <th></th>\n",
       "      <th>level_0</th>\n",
       "      <th>Lemma_text</th>\n",
       "    </tr>\n",
       "  </thead>\n",
       "  <tbody>\n",
       "    <tr>\n",
       "      <th>0</th>\n",
       "      <td>0</td>\n",
       "      <td>artículo abordo problema contingente y relevan...</td>\n",
       "    </tr>\n",
       "    <tr>\n",
       "      <th>1</th>\n",
       "      <td>0</td>\n",
       "      <td>artículo presentar recomendación práctico desa...</td>\n",
       "    </tr>\n",
       "    <tr>\n",
       "      <th>2</th>\n",
       "      <td>0</td>\n",
       "      <td>tema interesante y ayuda guío incorporar práct...</td>\n",
       "    </tr>\n",
       "    <tr>\n",
       "      <th>3</th>\n",
       "      <td>1</td>\n",
       "      <td>explicar forma ordenado y didáctico experienci...</td>\n",
       "    </tr>\n",
       "    <tr>\n",
       "      <th>4</th>\n",
       "      <td>1</td>\n",
       "      <td>autor describir metodología desarrollar forma ...</td>\n",
       "    </tr>\n",
       "  </tbody>\n",
       "</table>\n",
       "</div>"
      ],
      "text/plain": [
       "   level_0                                         Lemma_text\n",
       "0        0  artículo abordo problema contingente y relevan...\n",
       "1        0  artículo presentar recomendación práctico desa...\n",
       "2        0  tema interesante y ayuda guío incorporar práct...\n",
       "3        1  explicar forma ordenado y didáctico experienci...\n",
       "4        1  autor describir metodología desarrollar forma ..."
      ]
     },
     "execution_count": 19,
     "metadata": {},
     "output_type": "execute_result"
    }
   ],
   "source": [
    "df2_new = df2[['level_0','Lemma_text']]\n",
    "\n",
    "df2_new.head()"
   ]
  },
  {
   "cell_type": "code",
   "execution_count": 20,
   "metadata": {},
   "outputs": [
    {
     "data": {
      "text/plain": [
       "'artículo abordo problema contingente y relevante e incluir diagnóstico nacional práctico solución práctico concreto lenguaje adecuado artículo sentir concatenación artículo resultado encuesta práctico seguridad incorporación práctico ordir sección reflejo orden versión revisado artículo validación tipo siquiera evaluación experto'"
      ]
     },
     "execution_count": 20,
     "metadata": {},
     "output_type": "execute_result"
    }
   ],
   "source": [
    "# Checking 1st row before concatanation\n",
    "df2_new['Lemma_text'][0]"
   ]
  },
  {
   "cell_type": "code",
   "execution_count": 21,
   "metadata": {},
   "outputs": [
    {
     "data": {
      "text/html": [
       "<div>\n",
       "<style scoped>\n",
       "    .dataframe tbody tr th:only-of-type {\n",
       "        vertical-align: middle;\n",
       "    }\n",
       "\n",
       "    .dataframe tbody tr th {\n",
       "        vertical-align: top;\n",
       "    }\n",
       "\n",
       "    .dataframe thead th {\n",
       "        text-align: right;\n",
       "    }\n",
       "</style>\n",
       "<table border=\"1\" class=\"dataframe\">\n",
       "  <thead>\n",
       "    <tr style=\"text-align: right;\">\n",
       "      <th></th>\n",
       "      <th>Lemma_text</th>\n",
       "    </tr>\n",
       "    <tr>\n",
       "      <th>level_0</th>\n",
       "      <th></th>\n",
       "    </tr>\n",
       "  </thead>\n",
       "  <tbody>\n",
       "    <tr>\n",
       "      <th>0</th>\n",
       "      <td>artículo abordo problema contingente y relevan...</td>\n",
       "    </tr>\n",
       "    <tr>\n",
       "      <th>1</th>\n",
       "      <td>explicar forma ordenado y didáctico experienci...</td>\n",
       "    </tr>\n",
       "    <tr>\n",
       "      <th>2</th>\n",
       "      <td>proponer enfocar basado apoyar recomendación r...</td>\n",
       "    </tr>\n",
       "    <tr>\n",
       "      <th>3</th>\n",
       "      <td>realizar modelamiento encriptación cuánticar n...</td>\n",
       "    </tr>\n",
       "    <tr>\n",
       "      <th>4</th>\n",
       "      <td>novedoso propuesta estructurado correctamente ...</td>\n",
       "    </tr>\n",
       "  </tbody>\n",
       "</table>\n",
       "</div>"
      ],
      "text/plain": [
       "                                                Lemma_text\n",
       "level_0                                                   \n",
       "0        artículo abordo problema contingente y relevan...\n",
       "1        explicar forma ordenado y didáctico experienci...\n",
       "2        proponer enfocar basado apoyar recomendación r...\n",
       "3        realizar modelamiento encriptación cuánticar n...\n",
       "4        novedoso propuesta estructurado correctamente ..."
      ]
     },
     "execution_count": 21,
     "metadata": {},
     "output_type": "execute_result"
    }
   ],
   "source": [
    "# Merge rows by same value in the column ('level_0')\n",
    "d = {'Lemma_text': lambda x: ' '.join(x)}\n",
    "df_new = df2_new.groupby(df2_new['level_0']).aggregate(d)\n",
    "df_new.head()"
   ]
  },
  {
   "cell_type": "code",
   "execution_count": 22,
   "metadata": {},
   "outputs": [
    {
     "data": {
      "text/plain": [
       "'artículo abordo problema contingente y relevante e incluir diagnóstico nacional práctico solución práctico concreto lenguaje adecuado artículo sentir concatenación artículo resultado encuesta práctico seguridad incorporación práctico ordir sección reflejo orden versión revisado artículo validación tipo siquiera evaluación experto artículo presentar recomendación práctico desarrollo software seguro describir mejor práctica recomendado desarrollar software proactivo ataque y realizar análisis costo práctico desarrollo software basado revisión práctico propuesto bibliografío y contraste dato obtenido encuesta empresa finalmente recomendar guía ideal aplicar guía propuesto empresa involucrado encuesta servir originar él evaluar efectividad forma independiente tema interesante y ayuda guío incorporar práctica seguridad presentación descripción etapa y práctica desarrollo software seguro real desarrollo software chile indicar paper lograr encuesta presentar nueve tabla corresponder práctica desarrollo software seguro guía presentar práctica explicar sugiero mejorar guía aporte secuencia incorporación proponer deber explicar práctico observación diferenciar él práctica columno deber sugerencia aplicar él texto indicar presentar práctica extra leer correctamente formato mínimo palabra clave sugiero mencionar práctica mostrar tabla referencia incompleto faltar año referencia faltar año y tipo evento referencia faltar editorial referencia libro título llevar coma comillos referencia'"
      ]
     },
     "execution_count": 22,
     "metadata": {},
     "output_type": "execute_result"
    }
   ],
   "source": [
    "# Checking if the rows are well concatenated\n",
    "df_new['Lemma_text'][0]"
   ]
  },
  {
   "cell_type": "code",
   "execution_count": 23,
   "metadata": {},
   "outputs": [
    {
     "data": {
      "text/html": [
       "<div>\n",
       "<style scoped>\n",
       "    .dataframe tbody tr th:only-of-type {\n",
       "        vertical-align: middle;\n",
       "    }\n",
       "\n",
       "    .dataframe tbody tr th {\n",
       "        vertical-align: top;\n",
       "    }\n",
       "\n",
       "    .dataframe thead th {\n",
       "        text-align: right;\n",
       "    }\n",
       "</style>\n",
       "<table border=\"1\" class=\"dataframe\">\n",
       "  <thead>\n",
       "    <tr style=\"text-align: right;\">\n",
       "      <th></th>\n",
       "      <th>book_id</th>\n",
       "      <th>preliminary_decision</th>\n",
       "      <th>review</th>\n",
       "      <th>Lemma_text</th>\n",
       "    </tr>\n",
       "  </thead>\n",
       "  <tbody>\n",
       "    <tr>\n",
       "      <th>0</th>\n",
       "      <td>1</td>\n",
       "      <td>accept</td>\n",
       "      <td>[{'confidence': '4', 'evaluation': '1', 'id': ...</td>\n",
       "      <td>artículo abordo problema contingente y relevan...</td>\n",
       "    </tr>\n",
       "    <tr>\n",
       "      <th>1</th>\n",
       "      <td>2</td>\n",
       "      <td>accept</td>\n",
       "      <td>[{'confidence': '4', 'evaluation': '2', 'id': ...</td>\n",
       "      <td>explicar forma ordenado y didáctico experienci...</td>\n",
       "    </tr>\n",
       "    <tr>\n",
       "      <th>2</th>\n",
       "      <td>3</td>\n",
       "      <td>accept</td>\n",
       "      <td>[{'confidence': '4', 'evaluation': '2', 'id': ...</td>\n",
       "      <td>proponer enfocar basado apoyar recomendación r...</td>\n",
       "    </tr>\n",
       "    <tr>\n",
       "      <th>3</th>\n",
       "      <td>4</td>\n",
       "      <td>accept</td>\n",
       "      <td>[{'confidence': '4', 'evaluation': '2', 'id': ...</td>\n",
       "      <td>realizar modelamiento encriptación cuánticar n...</td>\n",
       "    </tr>\n",
       "    <tr>\n",
       "      <th>4</th>\n",
       "      <td>5</td>\n",
       "      <td>accept</td>\n",
       "      <td>[{'confidence': '4', 'evaluation': '2', 'id': ...</td>\n",
       "      <td>novedoso propuesta estructurado correctamente ...</td>\n",
       "    </tr>\n",
       "  </tbody>\n",
       "</table>\n",
       "</div>"
      ],
      "text/plain": [
       "   book_id preliminary_decision  \\\n",
       "0        1               accept   \n",
       "1        2               accept   \n",
       "2        3               accept   \n",
       "3        4               accept   \n",
       "4        5               accept   \n",
       "\n",
       "                                              review  \\\n",
       "0  [{'confidence': '4', 'evaluation': '1', 'id': ...   \n",
       "1  [{'confidence': '4', 'evaluation': '2', 'id': ...   \n",
       "2  [{'confidence': '4', 'evaluation': '2', 'id': ...   \n",
       "3  [{'confidence': '4', 'evaluation': '2', 'id': ...   \n",
       "4  [{'confidence': '4', 'evaluation': '2', 'id': ...   \n",
       "\n",
       "                                          Lemma_text  \n",
       "0  artículo abordo problema contingente y relevan...  \n",
       "1  explicar forma ordenado y didáctico experienci...  \n",
       "2  proponer enfocar basado apoyar recomendación r...  \n",
       "3  realizar modelamiento encriptación cuánticar n...  \n",
       "4  novedoso propuesta estructurado correctamente ...  "
      ]
     },
     "execution_count": 23,
     "metadata": {},
     "output_type": "execute_result"
    }
   ],
   "source": [
    "## Merge two dataframes\n",
    "df_merge = pd.merge(df1, df_new, left_index=True, right_index=True)\n",
    "df_merge.head()"
   ]
  },
  {
   "cell_type": "code",
   "execution_count": 24,
   "metadata": {},
   "outputs": [
    {
     "data": {
      "text/html": [
       "<div>\n",
       "<style scoped>\n",
       "    .dataframe tbody tr th:only-of-type {\n",
       "        vertical-align: middle;\n",
       "    }\n",
       "\n",
       "    .dataframe tbody tr th {\n",
       "        vertical-align: top;\n",
       "    }\n",
       "\n",
       "    .dataframe thead th {\n",
       "        text-align: right;\n",
       "    }\n",
       "</style>\n",
       "<table border=\"1\" class=\"dataframe\">\n",
       "  <thead>\n",
       "    <tr style=\"text-align: right;\">\n",
       "      <th></th>\n",
       "      <th>book_id</th>\n",
       "      <th>preliminary_decision</th>\n",
       "      <th>Lemma_text</th>\n",
       "    </tr>\n",
       "  </thead>\n",
       "  <tbody>\n",
       "    <tr>\n",
       "      <th>0</th>\n",
       "      <td>1</td>\n",
       "      <td>accept</td>\n",
       "      <td>artículo abordo problema contingente y relevan...</td>\n",
       "    </tr>\n",
       "    <tr>\n",
       "      <th>1</th>\n",
       "      <td>2</td>\n",
       "      <td>accept</td>\n",
       "      <td>explicar forma ordenado y didáctico experienci...</td>\n",
       "    </tr>\n",
       "    <tr>\n",
       "      <th>2</th>\n",
       "      <td>3</td>\n",
       "      <td>accept</td>\n",
       "      <td>proponer enfocar basado apoyar recomendación r...</td>\n",
       "    </tr>\n",
       "    <tr>\n",
       "      <th>3</th>\n",
       "      <td>4</td>\n",
       "      <td>accept</td>\n",
       "      <td>realizar modelamiento encriptación cuánticar n...</td>\n",
       "    </tr>\n",
       "    <tr>\n",
       "      <th>4</th>\n",
       "      <td>5</td>\n",
       "      <td>accept</td>\n",
       "      <td>novedoso propuesta estructurado correctamente ...</td>\n",
       "    </tr>\n",
       "  </tbody>\n",
       "</table>\n",
       "</div>"
      ],
      "text/plain": [
       "   book_id preliminary_decision  \\\n",
       "0        1               accept   \n",
       "1        2               accept   \n",
       "2        3               accept   \n",
       "3        4               accept   \n",
       "4        5               accept   \n",
       "\n",
       "                                          Lemma_text  \n",
       "0  artículo abordo problema contingente y relevan...  \n",
       "1  explicar forma ordenado y didáctico experienci...  \n",
       "2  proponer enfocar basado apoyar recomendación r...  \n",
       "3  realizar modelamiento encriptación cuánticar n...  \n",
       "4  novedoso propuesta estructurado correctamente ...  "
      ]
     },
     "execution_count": 24,
     "metadata": {},
     "output_type": "execute_result"
    }
   ],
   "source": [
    "# Drop review column\n",
    "df_merge_New = df_merge.drop(['review'], axis =1)\n",
    "df_merge_New.head()"
   ]
  },
  {
   "cell_type": "code",
   "execution_count": 25,
   "metadata": {},
   "outputs": [
    {
     "data": {
      "text/plain": [
       "(168, 3)"
      ]
     },
     "execution_count": 25,
     "metadata": {},
     "output_type": "execute_result"
    }
   ],
   "source": [
    "# Before dropping some rows\n",
    "df_merge_New.shape"
   ]
  },
  {
   "cell_type": "code",
   "execution_count": 26,
   "metadata": {},
   "outputs": [
    {
     "data": {
      "text/plain": [
       "(160, 3)"
      ]
     },
     "execution_count": 26,
     "metadata": {},
     "output_type": "execute_result"
    }
   ],
   "source": [
    "# Drop 'probably reject' & 'no decision' rows \n",
    "\n",
    "#df_merge_New.drop(df_merge_New[(df_merge_New['preliminary_decision'] == 'no decision') & (df_merge_New['preliminary_decision'] == 'probably reject') ].index , inplace=True)\n",
    "\n",
    "df_merge_New.drop(df_merge_New[df_merge_New['preliminary_decision'] == 'probably reject' ].index , inplace=True)\n",
    "\n",
    "df_merge_New.drop(df_merge_New[df_merge_New['preliminary_decision'] == 'no decision' ].index , inplace=True)\n",
    "\n",
    "df_merge_New.shape\n"
   ]
  },
  {
   "cell_type": "code",
   "execution_count": 27,
   "metadata": {},
   "outputs": [
    {
     "data": {
      "text/plain": [
       "array(['accept', 'reject'], dtype=object)"
      ]
     },
     "execution_count": 27,
     "metadata": {},
     "output_type": "execute_result"
    }
   ],
   "source": [
    "df_merge_New['preliminary_decision'].unique()"
   ]
  },
  {
   "cell_type": "code",
   "execution_count": 28,
   "metadata": {},
   "outputs": [
    {
     "name": "stdout",
     "output_type": "stream",
     "text": [
      "accept    70.0\n",
      "reject    30.0\n",
      "Name: preliminary_decision, dtype: float64\n"
     ]
    },
    {
     "data": {
      "text/plain": [
       "<function matplotlib.pyplot.show(close=None, block=None)>"
      ]
     },
     "execution_count": 28,
     "metadata": {},
     "output_type": "execute_result"
    },
    {
     "data": {
      "image/png": "[encoded data removed]",
      "text/plain": [
       "<Figure size 432x288 with 1 Axes>"
      ]
     },
     "metadata": {
      "needs_background": "light"
     },
     "output_type": "display_data"
    }
   ],
   "source": [
    "# Normalize and Plot the preliminary decision column after dropping \"probably rejected\" and \"no decision\" rows\n",
    "\n",
    "print(round(df_merge_New.preliminary_decision.value_counts(normalize=True)*100, 2))\n",
    "round(df_merge_New.preliminary_decision.value_counts(normalize=True)*100, 2).plot(kind='bar', color = 'teal')\n",
    "plt.title('Percentage of \"preliminary decision\"')\n",
    "plt.show"
   ]
  },
  {
   "cell_type": "code",
   "execution_count": 29,
   "metadata": {},
   "outputs": [
    {
     "data": {
      "text/html": [
       "<div>\n",
       "<style scoped>\n",
       "    .dataframe tbody tr th:only-of-type {\n",
       "        vertical-align: middle;\n",
       "    }\n",
       "\n",
       "    .dataframe tbody tr th {\n",
       "        vertical-align: top;\n",
       "    }\n",
       "\n",
       "    .dataframe thead th {\n",
       "        text-align: right;\n",
       "    }\n",
       "</style>\n",
       "<table border=\"1\" class=\"dataframe\">\n",
       "  <thead>\n",
       "    <tr style=\"text-align: right;\">\n",
       "      <th></th>\n",
       "      <th>book_id</th>\n",
       "      <th>preliminary_decision</th>\n",
       "      <th>Lemma_text</th>\n",
       "    </tr>\n",
       "  </thead>\n",
       "  <tbody>\n",
       "    <tr>\n",
       "      <th>0</th>\n",
       "      <td>1</td>\n",
       "      <td>accept</td>\n",
       "      <td>artículo abordo problema contingente y relevan...</td>\n",
       "    </tr>\n",
       "    <tr>\n",
       "      <th>1</th>\n",
       "      <td>2</td>\n",
       "      <td>accept</td>\n",
       "      <td>explicar forma ordenado y didáctico experienci...</td>\n",
       "    </tr>\n",
       "    <tr>\n",
       "      <th>2</th>\n",
       "      <td>3</td>\n",
       "      <td>accept</td>\n",
       "      <td>proponer enfocar basado apoyar recomendación r...</td>\n",
       "    </tr>\n",
       "    <tr>\n",
       "      <th>3</th>\n",
       "      <td>4</td>\n",
       "      <td>accept</td>\n",
       "      <td>realizar modelamiento encriptación cuánticar n...</td>\n",
       "    </tr>\n",
       "    <tr>\n",
       "      <th>4</th>\n",
       "      <td>5</td>\n",
       "      <td>accept</td>\n",
       "      <td>novedoso propuesta estructurado correctamente ...</td>\n",
       "    </tr>\n",
       "    <tr>\n",
       "      <th>...</th>\n",
       "      <td>...</td>\n",
       "      <td>...</td>\n",
       "      <td>...</td>\n",
       "    </tr>\n",
       "    <tr>\n",
       "      <th>155</th>\n",
       "      <td>167</td>\n",
       "      <td>reject</td>\n",
       "      <td>problema formar identificado figura claro cont...</td>\n",
       "    </tr>\n",
       "    <tr>\n",
       "      <th>156</th>\n",
       "      <td>168</td>\n",
       "      <td>accept</td>\n",
       "      <td>interesante requerir muestra estadístico ampli...</td>\n",
       "    </tr>\n",
       "    <tr>\n",
       "      <th>157</th>\n",
       "      <td>169</td>\n",
       "      <td>accept</td>\n",
       "      <td>documento describir exploratorio desarrollo ap...</td>\n",
       "    </tr>\n",
       "    <tr>\n",
       "      <th>158</th>\n",
       "      <td>170</td>\n",
       "      <td>reject</td>\n",
       "      <td>pretender ofrecer visión herramienta eva entor...</td>\n",
       "    </tr>\n",
       "    <tr>\n",
       "      <th>159</th>\n",
       "      <td>171</td>\n",
       "      <td>accept</td>\n",
       "      <td>observación fondo presentar implementación int...</td>\n",
       "    </tr>\n",
       "  </tbody>\n",
       "</table>\n",
       "<p>160 rows × 3 columns</p>\n",
       "</div>"
      ],
      "text/plain": [
       "     book_id preliminary_decision  \\\n",
       "0          1               accept   \n",
       "1          2               accept   \n",
       "2          3               accept   \n",
       "3          4               accept   \n",
       "4          5               accept   \n",
       "..       ...                  ...   \n",
       "155      167               reject   \n",
       "156      168               accept   \n",
       "157      169               accept   \n",
       "158      170               reject   \n",
       "159      171               accept   \n",
       "\n",
       "                                            Lemma_text  \n",
       "0    artículo abordo problema contingente y relevan...  \n",
       "1    explicar forma ordenado y didáctico experienci...  \n",
       "2    proponer enfocar basado apoyar recomendación r...  \n",
       "3    realizar modelamiento encriptación cuánticar n...  \n",
       "4    novedoso propuesta estructurado correctamente ...  \n",
       "..                                                 ...  \n",
       "155  problema formar identificado figura claro cont...  \n",
       "156  interesante requerir muestra estadístico ampli...  \n",
       "157  documento describir exploratorio desarrollo ap...  \n",
       "158  pretender ofrecer visión herramienta eva entor...  \n",
       "159  observación fondo presentar implementación int...  \n",
       "\n",
       "[160 rows x 3 columns]"
      ]
     },
     "execution_count": 29,
     "metadata": {},
     "output_type": "execute_result"
    }
   ],
   "source": [
    "# Reset indexes\n",
    "\n",
    "df_merge_New.reset_index(drop=True, inplace=True)\n",
    "\n",
    "#df_merge_New.info()\n",
    "df_merge_New\n"
   ]
  },
  {
   "cell_type": "markdown",
   "metadata": {},
   "source": [
    "### Model training"
   ]
  },
  {
   "cell_type": "code",
   "execution_count": 31,
   "metadata": {},
   "outputs": [
    {
     "name": "stdout",
     "output_type": "stream",
     "text": [
      "X_train:  120\n",
      "X_test:  40\n",
      "y_train:  120\n",
      "y_test:  40\n"
     ]
    }
   ],
   "source": [
    "from sklearn.model_selection import train_test_split\n",
    "\n",
    "independent_var = df_merge_New.Lemma_text\n",
    "target_var = df_merge_New.preliminary_decision\n",
    "\n",
    "X_train, X_test, y_train, y_test = train_test_split(independent_var, target_var, random_state = 13) \n",
    "\n",
    "print('X_train: ', len(X_train))\n",
    "print('X_test: ', len(X_test))\n",
    "print('y_train: ', len(y_train))\n",
    "print('y_test: ', len(y_test))"
   ]
  },
  {
   "cell_type": "markdown",
   "metadata": {},
   "source": [
    "### Vectorization Feature Engineering (TF-IDF)"
   ]
  },
  {
   "cell_type": "code",
   "execution_count": 32,
   "metadata": {},
   "outputs": [
    {
     "name": "stdout",
     "output_type": "stream",
     "text": [
      "Accuracy:  0.8\n"
     ]
    }
   ],
   "source": [
    "#tfvec = TfidfVectorizer(ngram_range=(1,2))\n",
    "cv = CountVectorizer(ngram_range=(1, 2))\n",
    "clf = LogisticRegression(solver = \"liblinear\") # https://scikit-learn.org/stable/modules/generated/sklearn.linear_model.LogisticRegression.html\n",
    "#clf = LinearSVC() # This has increase the ccuracy\n",
    "\n",
    "model = Pipeline([('vectorizer', cv), ('classifier', clf)])\n",
    "\n",
    "# Train the Classifier\n",
    "model.fit(X_train, y_train)\n",
    "\n",
    "#Predict the response for test dataset\n",
    "predictions = model.predict(X_test)\n",
    "\n",
    "#Create a confusion matrix\n",
    "confusion_matrix( y_test, predictions)\n",
    "\n",
    "# Model Accuracy, how often is the classifier correct?\n",
    "print(\"Accuracy: \", accuracy_score( y_test, predictions ))\n",
    "\n",
    "# print(\"Precision: \", precision_score(predictions, y_test, average = 'weighted' ) )\n",
    "# print(\"Recall: \", recall_score(predictions, y_test, average = 'weighted', labels=np.unique(predictions)))"
   ]
  },
  {
   "cell_type": "code",
   "execution_count": 33,
   "metadata": {},
   "outputs": [
    {
     "name": "stdout",
     "output_type": "stream",
     "text": [
      "              precision    recall  f1-score   support\n",
      "\n",
      "      accept       0.83      0.94      0.88        32\n",
      "      reject       0.50      0.25      0.33         8\n",
      "\n",
      "    accuracy                           0.80        40\n",
      "   macro avg       0.67      0.59      0.61        40\n",
      "weighted avg       0.77      0.80      0.77        40\n",
      "\n"
     ]
    }
   ],
   "source": [
    "# classification_report() builds a text report showing the main classification metrics.\n",
    "\n",
    "print(classification_report(y_test, predictions))# , labels=np.unique(predictions)))\n"
   ]
  },
  {
   "cell_type": "code",
   "execution_count": 34,
   "metadata": {},
   "outputs": [
    {
     "data": {
      "image/png": "[encoded data removed]",
      "text/plain": [
       "<Figure size 432x288 with 2 Axes>"
      ]
     },
     "metadata": {
      "needs_background": "light"
     },
     "output_type": "display_data"
    }
   ],
   "source": [
    "# plot the confusion matrix\n",
    "\n",
    "#labels = ['accept', 'reject']\n",
    "cm = confusion_matrix(y_test, predictions)\n",
    "\n",
    "fig = plt.figure()\n",
    "ax = fig.add_subplot(111)\n",
    "cax = ax.matshow(cm)\n",
    "plt.title('Confusion matrix')\n",
    "fig.colorbar(cax)\n",
    "ax.set_xticklabels([''] )\n",
    "ax.set_yticklabels([''] )\n",
    "plt.xlabel('Predictions')\n",
    "plt.ylabel('Actuals')\n",
    "plt.show()"
   ]
  },
  {
   "cell_type": "code",
   "execution_count": 35,
   "metadata": {},
   "outputs": [
    {
     "name": "stdout",
     "output_type": "stream",
     "text": [
      "['accept']\n"
     ]
    }
   ],
   "source": [
    "### Try a new review\n",
    "\n",
    "review = ['su novela es una historia mágica que revela la esencia de la vida, el amor y la soledad. Debido a la simplicidad del estilo de la prosa, las ilustraciones divertidas y divertidas, la viveza de la imaginación, esta historia simple pero reveladora se considera una de las mejores obras literarias de todos los tiempos.']\n",
    "result = model.predict(review)\n",
    "\n",
    "print(result)"
   ]
  },
  {
   "cell_type": "markdown",
   "metadata": {},
   "source": [
    "### Countvectorizer and  Naive Bayes classifier"
   ]
  },
  {
   "cell_type": "code",
   "execution_count": 36,
   "metadata": {},
   "outputs": [
    {
     "name": "stdout",
     "output_type": "stream",
     "text": [
      "Accuracy score:  0.7\n"
     ]
    }
   ],
   "source": [
    "##################\n",
    "\n",
    "X = df_merge_New.Lemma_text\n",
    "y = df_merge_New.preliminary_decision\n",
    "X_train, X_test, y_train, y_test = train_test_split(X, y, random_state=13)\n",
    "\n",
    "cv = CountVectorizer(ngram_range=(1, 2))\n",
    "clf = MultinomialNB()\n",
    "\n",
    "naive_bayes = Pipeline([('vectorizer', cv), ('classifier', clf)])\n",
    "\n",
    "# Fit the model and make predictions\n",
    "\n",
    "naive_bayes.fit(X_train, y_train)\n",
    "\n",
    "predictions = naive_bayes.predict(X_test)\n",
    "\n",
    "# # Model Accuracy, how often is the classifier correct?\n",
    "\n",
    "print('Accuracy score: ', accuracy_score(y_test, predictions))"
   ]
  },
  {
   "cell_type": "code",
   "execution_count": 37,
   "metadata": {},
   "outputs": [
    {
     "data": {
      "text/plain": [
       "array([[26,  6],\n",
       "       [ 6,  2]], dtype=int64)"
      ]
     },
     "execution_count": 37,
     "metadata": {},
     "output_type": "execute_result"
    }
   ],
   "source": [
    "# Create a confusion matrix\n",
    "conf_mnNB = confusion_matrix(y_test, predictions)\n",
    "\n",
    "conf_mnNB"
   ]
  },
  {
   "cell_type": "code",
   "execution_count": 38,
   "metadata": {},
   "outputs": [
    {
     "name": "stdout",
     "output_type": "stream",
     "text": [
      "              precision    recall  f1-score   support\n",
      "\n",
      "      accept       0.81      0.81      0.81        32\n",
      "      reject       0.25      0.25      0.25         8\n",
      "\n",
      "    accuracy                           0.70        40\n",
      "   macro avg       0.53      0.53      0.53        40\n",
      "weighted avg       0.70      0.70      0.70        40\n",
      "\n"
     ]
    }
   ],
   "source": [
    "# classification_report() builds a text report showing the main classification metrics.\n",
    "\n",
    "print(classification_report(y_test, predictions, labels=np.unique(predictions)))"
   ]
  },
  {
   "cell_type": "markdown",
   "metadata": {},
   "source": [
    "### DecisionTreeClassifier’"
   ]
  },
  {
   "cell_type": "code",
   "execution_count": 39,
   "metadata": {},
   "outputs": [
    {
     "name": "stdout",
     "output_type": "stream",
     "text": [
      "Accuracy: 0.65625\n"
     ]
    }
   ],
   "source": [
    "\n",
    "X = df_merge_New.Lemma_text\n",
    "y = df_merge_New.preliminary_decision\n",
    "\n",
    "# Split dataset into training set and test set\n",
    "X_train, X_test, y_train, y_test = train_test_split(X, y, test_size=0.2, random_state=1)\n",
    "\n",
    "# Create Decision Tree classifer object\n",
    "clf= DecisionTreeClassifier()\n",
    "\n",
    "cv = CountVectorizer(ngram_range=(1, 2))\n",
    "#tfvec = TfidfVectorizer(ngram_range=(1,2))\n",
    "\n",
    "pipe_DTC = Pipeline(steps = [('vectorizer', cv),('classifire', clf)])\n",
    "\n",
    "# Train Decision Tree Classifier\n",
    "pipe_DTC.fit(X_train,y_train)\n",
    "\n",
    "#Predict the response for test dataset\n",
    "pred = pipe_DTC.predict(X_test)\n",
    "\n",
    "# Model Accuracy, how often is the classifier correct?\n",
    "print(\"Accuracy:\", accuracy_score(y_test, pred))\n"
   ]
  },
  {
   "cell_type": "code",
   "execution_count": 40,
   "metadata": {},
   "outputs": [
    {
     "data": {
      "text/plain": [
       "array([[19,  6],\n",
       "       [ 5,  2]], dtype=int64)"
      ]
     },
     "execution_count": 40,
     "metadata": {},
     "output_type": "execute_result"
    }
   ],
   "source": [
    "# Create a confusion matrix\n",
    "conf_DT = confusion_matrix(y_test, pred)\n",
    "\n",
    "conf_DT\n"
   ]
  },
  {
   "cell_type": "code",
   "execution_count": 41,
   "metadata": {},
   "outputs": [
    {
     "name": "stdout",
     "output_type": "stream",
     "text": [
      "              precision    recall  f1-score   support\n",
      "\n",
      "      accept       0.79      0.76      0.78        25\n",
      "      reject       0.25      0.29      0.27         7\n",
      "\n",
      "    accuracy                           0.66        32\n",
      "   macro avg       0.52      0.52      0.52        32\n",
      "weighted avg       0.67      0.66      0.66        32\n",
      "\n"
     ]
    }
   ],
   "source": [
    "# Decision Tree classification\n",
    "\n",
    "print(classification_report(y_test, pred))"
   ]
  },
  {
   "cell_type": "code",
   "execution_count": null,
   "metadata": {},
   "outputs": [],
   "source": []
  }
 ],
 "metadata": {
  "kernelspec": {
   "display_name": "Python 3",
   "language": "python",
   "name": "python3"
  },
  "language_info": {
   "codemirror_mode": {
    "name": "ipython",
    "version": 3
   },
   "file_extension": ".py",
   "mimetype": "text/x-python",
   "name": "python",
   "nbconvert_exporter": "python",
   "pygments_lexer": "ipython3",
   "version": "3.8.5"
  }
 },
 "nbformat": 4,
 "nbformat_minor": 4
}
