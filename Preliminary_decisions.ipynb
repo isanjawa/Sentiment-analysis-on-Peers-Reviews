{
 "cells": [
  {
   "cell_type": "markdown",
   "metadata": {},
   "source": [
    "### Here I'm trying to predict the \"preliminary decision\" about a book based of its reviews"
   ]
  },
  {
   "cell_type": "code",
   "execution_count": 1,
   "metadata": {},
   "outputs": [],
   "source": [
    "import pandas as pd\n",
    "import numpy as np\n",
    "import matplotlib.pyplot as plt\n",
    "%matplotlib inline\n",
    "\n",
    "from sklearn.feature_extraction.text import TfidfVectorizer\n",
    "from sklearn.linear_model import LogisticRegression\n",
    "from sklearn.svm import LinearSVC\n",
    "from sklearn.pipeline import Pipeline\n",
    "from sklearn.model_selection import train_test_split\n",
    "from sklearn.metrics import accuracy_score, classification_report, confusion_matrix, precision_score, recall_score"
   ]
  },
  {
   "cell_type": "code",
   "execution_count": 2,
   "metadata": {},
   "outputs": [
    {
     "data": {
      "text/html": [
       "<div>\n",
       "<style scoped>\n",
       "    .dataframe tbody tr th:only-of-type {\n",
       "        vertical-align: middle;\n",
       "    }\n",
       "\n",
       "    .dataframe tbody tr th {\n",
       "        vertical-align: top;\n",
       "    }\n",
       "\n",
       "    .dataframe thead th {\n",
       "        text-align: right;\n",
       "    }\n",
       "</style>\n",
       "<table border=\"1\" class=\"dataframe\">\n",
       "  <thead>\n",
       "    <tr style=\"text-align: right;\">\n",
       "      <th></th>\n",
       "      <th>book_id</th>\n",
       "      <th>preliminary_decision</th>\n",
       "      <th>review</th>\n",
       "    </tr>\n",
       "  </thead>\n",
       "  <tbody>\n",
       "    <tr>\n",
       "      <th>0</th>\n",
       "      <td>1</td>\n",
       "      <td>accept</td>\n",
       "      <td>[{'confidence': '4', 'evaluation': '1', 'id': ...</td>\n",
       "    </tr>\n",
       "    <tr>\n",
       "      <th>1</th>\n",
       "      <td>2</td>\n",
       "      <td>accept</td>\n",
       "      <td>[{'confidence': '4', 'evaluation': '2', 'id': ...</td>\n",
       "    </tr>\n",
       "    <tr>\n",
       "      <th>2</th>\n",
       "      <td>3</td>\n",
       "      <td>accept</td>\n",
       "      <td>[{'confidence': '4', 'evaluation': '2', 'id': ...</td>\n",
       "    </tr>\n",
       "    <tr>\n",
       "      <th>3</th>\n",
       "      <td>4</td>\n",
       "      <td>accept</td>\n",
       "      <td>[{'confidence': '4', 'evaluation': '2', 'id': ...</td>\n",
       "    </tr>\n",
       "    <tr>\n",
       "      <th>4</th>\n",
       "      <td>5</td>\n",
       "      <td>accept</td>\n",
       "      <td>[{'confidence': '4', 'evaluation': '2', 'id': ...</td>\n",
       "    </tr>\n",
       "    <tr>\n",
       "      <th>...</th>\n",
       "      <td>...</td>\n",
       "      <td>...</td>\n",
       "      <td>...</td>\n",
       "    </tr>\n",
       "    <tr>\n",
       "      <th>167</th>\n",
       "      <td>168</td>\n",
       "      <td>accept</td>\n",
       "      <td>[{'confidence': '3', 'evaluation': '2', 'id': ...</td>\n",
       "    </tr>\n",
       "    <tr>\n",
       "      <th>168</th>\n",
       "      <td>169</td>\n",
       "      <td>accept</td>\n",
       "      <td>[{'confidence': '3', 'evaluation': '1', 'id': ...</td>\n",
       "    </tr>\n",
       "    <tr>\n",
       "      <th>169</th>\n",
       "      <td>170</td>\n",
       "      <td>reject</td>\n",
       "      <td>[{'confidence': '5', 'evaluation': '-1', 'id':...</td>\n",
       "    </tr>\n",
       "    <tr>\n",
       "      <th>170</th>\n",
       "      <td>171</td>\n",
       "      <td>accept</td>\n",
       "      <td>[{'confidence': '4', 'evaluation': '-1', 'id':...</td>\n",
       "    </tr>\n",
       "    <tr>\n",
       "      <th>171</th>\n",
       "      <td>172</td>\n",
       "      <td>no decision</td>\n",
       "      <td>[{'confidence': '4', 'evaluation': '1', 'id': ...</td>\n",
       "    </tr>\n",
       "  </tbody>\n",
       "</table>\n",
       "<p>172 rows × 3 columns</p>\n",
       "</div>"
      ],
      "text/plain": [
       "     book_id preliminary_decision  \\\n",
       "0          1               accept   \n",
       "1          2               accept   \n",
       "2          3               accept   \n",
       "3          4               accept   \n",
       "4          5               accept   \n",
       "..       ...                  ...   \n",
       "167      168               accept   \n",
       "168      169               accept   \n",
       "169      170               reject   \n",
       "170      171               accept   \n",
       "171      172          no decision   \n",
       "\n",
       "                                                review  \n",
       "0    [{'confidence': '4', 'evaluation': '1', 'id': ...  \n",
       "1    [{'confidence': '4', 'evaluation': '2', 'id': ...  \n",
       "2    [{'confidence': '4', 'evaluation': '2', 'id': ...  \n",
       "3    [{'confidence': '4', 'evaluation': '2', 'id': ...  \n",
       "4    [{'confidence': '4', 'evaluation': '2', 'id': ...  \n",
       "..                                                 ...  \n",
       "167  [{'confidence': '3', 'evaluation': '2', 'id': ...  \n",
       "168  [{'confidence': '3', 'evaluation': '1', 'id': ...  \n",
       "169  [{'confidence': '5', 'evaluation': '-1', 'id':...  \n",
       "170  [{'confidence': '4', 'evaluation': '-1', 'id':...  \n",
       "171  [{'confidence': '4', 'evaluation': '1', 'id': ...  \n",
       "\n",
       "[172 rows x 3 columns]"
      ]
     },
     "execution_count": 2,
     "metadata": {},
     "output_type": "execute_result"
    }
   ],
   "source": [
    "df1 = pd.read_csv('decision.csv', index_col = 0)\n",
    "\n",
    "df1"
   ]
  },
  {
   "cell_type": "code",
   "execution_count": 3,
   "metadata": {},
   "outputs": [
    {
     "data": {
      "text/plain": [
       "accept             115\n",
       "reject              48\n",
       "probably reject      7\n",
       "no decision          2\n",
       "Name: preliminary_decision, dtype: int64"
      ]
     },
     "execution_count": 3,
     "metadata": {},
     "output_type": "execute_result"
    }
   ],
   "source": [
    "df1.preliminary_decision.value_counts()"
   ]
  },
  {
   "cell_type": "code",
   "execution_count": 4,
   "metadata": {},
   "outputs": [
    {
     "name": "stdout",
     "output_type": "stream",
     "text": [
      "accept             66.86\n",
      "reject             27.91\n",
      "probably reject     4.07\n",
      "no decision         1.16\n",
      "Name: preliminary_decision, dtype: float64\n"
     ]
    },
    {
     "data": {
      "text/plain": [
       "<function matplotlib.pyplot.show(close=None, block=None)>"
      ]
     },
     "execution_count": 4,
     "metadata": {},
     "output_type": "execute_result"
    },
    {
     "data": {
      "image/png": "[encoded data removed]",
      "text/plain": [
       "<Figure size 432x288 with 1 Axes>"
      ]
     },
     "metadata": {
      "needs_background": "light"
     },
     "output_type": "display_data"
    }
   ],
   "source": [
    "# Checking for the preliminary decision\n",
    "print(round(df1.preliminary_decision.value_counts(normalize=True)*100, 2))\n",
    "round(df1.preliminary_decision.value_counts(normalize=True)*100, 2).plot(kind='bar')\n",
    "plt.title('Percentage preliminary decision by book reviews')\n",
    "plt.show\n"
   ]
  },
  {
   "cell_type": "code",
   "execution_count": 5,
   "metadata": {},
   "outputs": [
    {
     "data": {
      "text/html": [
       "<div>\n",
       "<style scoped>\n",
       "    .dataframe tbody tr th:only-of-type {\n",
       "        vertical-align: middle;\n",
       "    }\n",
       "\n",
       "    .dataframe tbody tr th {\n",
       "        vertical-align: top;\n",
       "    }\n",
       "\n",
       "    .dataframe thead th {\n",
       "        text-align: right;\n",
       "    }\n",
       "</style>\n",
       "<table border=\"1\" class=\"dataframe\">\n",
       "  <thead>\n",
       "    <tr style=\"text-align: right;\">\n",
       "      <th></th>\n",
       "      <th>level_0</th>\n",
       "      <th>confidence</th>\n",
       "      <th>evaluation</th>\n",
       "      <th>id</th>\n",
       "      <th>lan</th>\n",
       "      <th>orientation</th>\n",
       "      <th>remarks</th>\n",
       "      <th>text</th>\n",
       "      <th>timespan</th>\n",
       "      <th>length</th>\n",
       "      <th>new_text</th>\n",
       "      <th>Lemma_text</th>\n",
       "      <th>Lemma_length</th>\n",
       "    </tr>\n",
       "  </thead>\n",
       "  <tbody>\n",
       "    <tr>\n",
       "      <th>0</th>\n",
       "      <td>0</td>\n",
       "      <td>4.0</td>\n",
       "      <td>1</td>\n",
       "      <td>1</td>\n",
       "      <td>es</td>\n",
       "      <td>0</td>\n",
       "      <td>NaN</td>\n",
       "      <td>- El artículo aborda un problema contingente y...</td>\n",
       "      <td>2010-07-05</td>\n",
       "      <td>575</td>\n",
       "      <td>artículo aborda problema contingente y relevan...</td>\n",
       "      <td>artículo abordo problema contingente y relevan...</td>\n",
       "      <td>331</td>\n",
       "    </tr>\n",
       "    <tr>\n",
       "      <th>1</th>\n",
       "      <td>0</td>\n",
       "      <td>4.0</td>\n",
       "      <td>1</td>\n",
       "      <td>2</td>\n",
       "      <td>es</td>\n",
       "      <td>1</td>\n",
       "      <td>NaN</td>\n",
       "      <td>El artículo presenta recomendaciones prácticas...</td>\n",
       "      <td>2010-07-05</td>\n",
       "      <td>618</td>\n",
       "      <td>artículo presenta recomendaciones prácticas de...</td>\n",
       "      <td>artículo presentar recomendación práctico desa...</td>\n",
       "      <td>433</td>\n",
       "    </tr>\n",
       "    <tr>\n",
       "      <th>2</th>\n",
       "      <td>0</td>\n",
       "      <td>5.0</td>\n",
       "      <td>1</td>\n",
       "      <td>3</td>\n",
       "      <td>es</td>\n",
       "      <td>1</td>\n",
       "      <td>NaN</td>\n",
       "      <td>- El tema es muy interesante y puede ser de mu...</td>\n",
       "      <td>2010-07-05</td>\n",
       "      <td>1259</td>\n",
       "      <td>tema interesante y ayuda guía incorporar práct...</td>\n",
       "      <td>tema interesante y ayuda guío incorporar práct...</td>\n",
       "      <td>752</td>\n",
       "    </tr>\n",
       "    <tr>\n",
       "      <th>3</th>\n",
       "      <td>1</td>\n",
       "      <td>4.0</td>\n",
       "      <td>2</td>\n",
       "      <td>1</td>\n",
       "      <td>es</td>\n",
       "      <td>1</td>\n",
       "      <td>NaN</td>\n",
       "      <td>Se explica en forma ordenada y didáctica una e...</td>\n",
       "      <td>2010-07-05</td>\n",
       "      <td>1350</td>\n",
       "      <td>explica forma ordenada y didáctica experiencia...</td>\n",
       "      <td>explicar forma ordenado y didáctico experienci...</td>\n",
       "      <td>911</td>\n",
       "    </tr>\n",
       "    <tr>\n",
       "      <th>4</th>\n",
       "      <td>1</td>\n",
       "      <td>4.0</td>\n",
       "      <td>2</td>\n",
       "      <td>3</td>\n",
       "      <td>es</td>\n",
       "      <td>0</td>\n",
       "      <td>NaN</td>\n",
       "      <td>Los autores describen una metodología para des...</td>\n",
       "      <td>2010-07-05</td>\n",
       "      <td>1938</td>\n",
       "      <td>autores describen metodología desarrollar form...</td>\n",
       "      <td>autor describir metodología desarrollar forma ...</td>\n",
       "      <td>1178</td>\n",
       "    </tr>\n",
       "    <tr>\n",
       "      <th>...</th>\n",
       "      <td>...</td>\n",
       "      <td>...</td>\n",
       "      <td>...</td>\n",
       "      <td>...</td>\n",
       "      <td>...</td>\n",
       "      <td>...</td>\n",
       "      <td>...</td>\n",
       "      <td>...</td>\n",
       "      <td>...</td>\n",
       "      <td>...</td>\n",
       "      <td>...</td>\n",
       "      <td>...</td>\n",
       "      <td>...</td>\n",
       "    </tr>\n",
       "    <tr>\n",
       "      <th>394</th>\n",
       "      <td>169</td>\n",
       "      <td>5.0</td>\n",
       "      <td>-1</td>\n",
       "      <td>1</td>\n",
       "      <td>es</td>\n",
       "      <td>-2</td>\n",
       "      <td>NaN</td>\n",
       "      <td>El trabajo pretende ofrecer una visión del uso...</td>\n",
       "      <td>2015-07-05</td>\n",
       "      <td>684</td>\n",
       "      <td>pretende ofrecer visión herramientas eva entor...</td>\n",
       "      <td>pretender ofrecer visión herramienta eva entor...</td>\n",
       "      <td>357</td>\n",
       "    </tr>\n",
       "    <tr>\n",
       "      <th>395</th>\n",
       "      <td>169</td>\n",
       "      <td>4.0</td>\n",
       "      <td>-1</td>\n",
       "      <td>2</td>\n",
       "      <td>es</td>\n",
       "      <td>-1</td>\n",
       "      <td>NaN</td>\n",
       "      <td>El paper está bien escrito y de fácil lectura....</td>\n",
       "      <td>2015-07-05</td>\n",
       "      <td>576</td>\n",
       "      <td>paper escrito y fácil lectura ajusta formato e...</td>\n",
       "      <td>paper escrito y fácil lectura ajusto formato e...</td>\n",
       "      <td>359</td>\n",
       "    </tr>\n",
       "    <tr>\n",
       "      <th>396</th>\n",
       "      <td>170</td>\n",
       "      <td>4.0</td>\n",
       "      <td>-1</td>\n",
       "      <td>1</td>\n",
       "      <td>es</td>\n",
       "      <td>0</td>\n",
       "      <td>NaN</td>\n",
       "      <td>Observación de fondo:  No se presenta un ejemp...</td>\n",
       "      <td>2015-07-05</td>\n",
       "      <td>831</td>\n",
       "      <td>observación fondo presenta implementación inte...</td>\n",
       "      <td>observación fondo presentar implementación int...</td>\n",
       "      <td>469</td>\n",
       "    </tr>\n",
       "    <tr>\n",
       "      <th>397</th>\n",
       "      <td>170</td>\n",
       "      <td>3.0</td>\n",
       "      <td>1</td>\n",
       "      <td>2</td>\n",
       "      <td>es</td>\n",
       "      <td>-1</td>\n",
       "      <td>NaN</td>\n",
       "      <td>Se propone un procedimiento para elaborar máqu...</td>\n",
       "      <td>2015-07-05</td>\n",
       "      <td>472</td>\n",
       "      <td>propone procedimiento elaborar máquinas dispos...</td>\n",
       "      <td>proponer procedimiento elaborar máquina dispos...</td>\n",
       "      <td>292</td>\n",
       "    </tr>\n",
       "    <tr>\n",
       "      <th>398</th>\n",
       "      <td>171</td>\n",
       "      <td>4.0</td>\n",
       "      <td>1</td>\n",
       "      <td>1</td>\n",
       "      <td>es</td>\n",
       "      <td>-1</td>\n",
       "      <td>NaN</td>\n",
       "      <td>El artículo describe básicamente los component...</td>\n",
       "      <td>2015-07-05</td>\n",
       "      <td>639</td>\n",
       "      <td>artículo describe básicamente componentes aero...</td>\n",
       "      <td>artículo describir básicamente componente aero...</td>\n",
       "      <td>433</td>\n",
       "    </tr>\n",
       "  </tbody>\n",
       "</table>\n",
       "<p>382 rows × 13 columns</p>\n",
       "</div>"
      ],
      "text/plain": [
       "     level_0  confidence  evaluation  id lan  orientation remarks  \\\n",
       "0          0         4.0           1   1  es            0     NaN   \n",
       "1          0         4.0           1   2  es            1     NaN   \n",
       "2          0         5.0           1   3  es            1     NaN   \n",
       "3          1         4.0           2   1  es            1     NaN   \n",
       "4          1         4.0           2   3  es            0     NaN   \n",
       "..       ...         ...         ...  ..  ..          ...     ...   \n",
       "394      169         5.0          -1   1  es           -2     NaN   \n",
       "395      169         4.0          -1   2  es           -1     NaN   \n",
       "396      170         4.0          -1   1  es            0     NaN   \n",
       "397      170         3.0           1   2  es           -1     NaN   \n",
       "398      171         4.0           1   1  es           -1     NaN   \n",
       "\n",
       "                                                  text    timespan  length  \\\n",
       "0    - El artículo aborda un problema contingente y...  2010-07-05     575   \n",
       "1    El artículo presenta recomendaciones prácticas...  2010-07-05     618   \n",
       "2    - El tema es muy interesante y puede ser de mu...  2010-07-05    1259   \n",
       "3    Se explica en forma ordenada y didáctica una e...  2010-07-05    1350   \n",
       "4    Los autores describen una metodología para des...  2010-07-05    1938   \n",
       "..                                                 ...         ...     ...   \n",
       "394  El trabajo pretende ofrecer una visión del uso...  2015-07-05     684   \n",
       "395  El paper está bien escrito y de fácil lectura....  2015-07-05     576   \n",
       "396  Observación de fondo:  No se presenta un ejemp...  2015-07-05     831   \n",
       "397  Se propone un procedimiento para elaborar máqu...  2015-07-05     472   \n",
       "398  El artículo describe básicamente los component...  2015-07-05     639   \n",
       "\n",
       "                                              new_text  \\\n",
       "0    artículo aborda problema contingente y relevan...   \n",
       "1    artículo presenta recomendaciones prácticas de...   \n",
       "2    tema interesante y ayuda guía incorporar práct...   \n",
       "3    explica forma ordenada y didáctica experiencia...   \n",
       "4    autores describen metodología desarrollar form...   \n",
       "..                                                 ...   \n",
       "394  pretende ofrecer visión herramientas eva entor...   \n",
       "395  paper escrito y fácil lectura ajusta formato e...   \n",
       "396  observación fondo presenta implementación inte...   \n",
       "397  propone procedimiento elaborar máquinas dispos...   \n",
       "398  artículo describe básicamente componentes aero...   \n",
       "\n",
       "                                            Lemma_text  Lemma_length  \n",
       "0    artículo abordo problema contingente y relevan...           331  \n",
       "1    artículo presentar recomendación práctico desa...           433  \n",
       "2    tema interesante y ayuda guío incorporar práct...           752  \n",
       "3    explicar forma ordenado y didáctico experienci...           911  \n",
       "4    autor describir metodología desarrollar forma ...          1178  \n",
       "..                                                 ...           ...  \n",
       "394  pretender ofrecer visión herramienta eva entor...           357  \n",
       "395  paper escrito y fácil lectura ajusto formato e...           359  \n",
       "396  observación fondo presentar implementación int...           469  \n",
       "397  proponer procedimiento elaborar máquina dispos...           292  \n",
       "398  artículo describir básicamente componente aero...           433  \n",
       "\n",
       "[382 rows x 13 columns]"
      ]
     },
     "execution_count": 5,
     "metadata": {},
     "output_type": "execute_result"
    }
   ],
   "source": [
    "df2 = pd.read_csv('lemma.csv', index_col = 0)\n",
    "\n",
    "df2"
   ]
  },
  {
   "cell_type": "code",
   "execution_count": 6,
   "metadata": {},
   "outputs": [
    {
     "name": "stdout",
     "output_type": "stream",
     "text": [
      "4.0    43.16\n",
      "3.0    36.05\n",
      "5.0    12.11\n",
      "2.0     6.84\n",
      "1.0     1.84\n",
      "Name: confidence, dtype: float64\n"
     ]
    },
    {
     "data": {
      "text/plain": [
       "<function matplotlib.pyplot.show(close=None, block=None)>"
      ]
     },
     "execution_count": 6,
     "metadata": {},
     "output_type": "execute_result"
    },
    {
     "data": {
      "image/png": "[encoded data removed]",
      "text/plain": [
       "<Figure size 432x288 with 1 Axes>"
      ]
     },
     "metadata": {
      "needs_background": "light"
     },
     "output_type": "display_data"
    }
   ],
   "source": [
    "# Checking for the confidence\n",
    "print(round(df2.confidence.value_counts(normalize=True)*100, 2))\n",
    "round(df2.confidence.value_counts(normalize=True)*100, 2).plot(kind='bar')\n",
    "plt.title('Percentage of confidence')\n",
    "plt.show"
   ]
  },
  {
   "cell_type": "code",
   "execution_count": 7,
   "metadata": {},
   "outputs": [
    {
     "name": "stdout",
     "output_type": "stream",
     "text": [
      " 2    25.92\n",
      "-2    22.25\n",
      " 1    21.20\n",
      " 0    15.45\n",
      "-1    15.18\n",
      "Name: evaluation, dtype: float64\n"
     ]
    },
    {
     "data": {
      "text/plain": [
       "<function matplotlib.pyplot.show(close=None, block=None)>"
      ]
     },
     "execution_count": 7,
     "metadata": {},
     "output_type": "execute_result"
    },
    {
     "data": {
      "image/png": "[encoded data removed]",
      "text/plain": [
       "<Figure size 432x288 with 1 Axes>"
      ]
     },
     "metadata": {
      "needs_background": "light"
     },
     "output_type": "display_data"
    }
   ],
   "source": [
    "# Checking for the evaluation\n",
    "print(round(df2.evaluation.value_counts(normalize=True)*100, 2))\n",
    "round(df2.evaluation.value_counts(normalize=True)*100, 2).plot(kind='bar')\n",
    "plt.title('Percentage of evaluation')\n",
    "plt.show"
   ]
  },
  {
   "cell_type": "code",
   "execution_count": 8,
   "metadata": {},
   "outputs": [
    {
     "name": "stdout",
     "output_type": "stream",
     "text": [
      "-1    35.86\n",
      " 0    27.23\n",
      " 1    23.82\n",
      "-2     9.16\n",
      " 2     3.93\n",
      "Name: orientation, dtype: float64\n"
     ]
    },
    {
     "data": {
      "text/plain": [
       "<function matplotlib.pyplot.show(close=None, block=None)>"
      ]
     },
     "execution_count": 8,
     "metadata": {},
     "output_type": "execute_result"
    },
    {
     "data": {
      "image/png": "[encoded data removed]",
      "text/plain": [
       "<Figure size 432x288 with 1 Axes>"
      ]
     },
     "metadata": {
      "needs_background": "light"
     },
     "output_type": "display_data"
    }
   ],
   "source": [
    "# Checking for the orientation\n",
    "print(round(df2.orientation.value_counts(normalize=True)*100, 2))\n",
    "round(df2.orientation.value_counts(normalize=True)*100, 2).plot(kind='bar')\n",
    "plt.title('Percentage of orientation')\n",
    "plt.show"
   ]
  },
  {
   "cell_type": "code",
   "execution_count": 9,
   "metadata": {},
   "outputs": [],
   "source": [
    "# Extract 2 columns: level_0 and Lemma_text"
   ]
  },
  {
   "cell_type": "code",
   "execution_count": 10,
   "metadata": {},
   "outputs": [
    {
     "data": {
      "text/html": [
       "<div>\n",
       "<style scoped>\n",
       "    .dataframe tbody tr th:only-of-type {\n",
       "        vertical-align: middle;\n",
       "    }\n",
       "\n",
       "    .dataframe tbody tr th {\n",
       "        vertical-align: top;\n",
       "    }\n",
       "\n",
       "    .dataframe thead th {\n",
       "        text-align: right;\n",
       "    }\n",
       "</style>\n",
       "<table border=\"1\" class=\"dataframe\">\n",
       "  <thead>\n",
       "    <tr style=\"text-align: right;\">\n",
       "      <th></th>\n",
       "      <th>level_0</th>\n",
       "      <th>Lemma_text</th>\n",
       "    </tr>\n",
       "  </thead>\n",
       "  <tbody>\n",
       "    <tr>\n",
       "      <th>0</th>\n",
       "      <td>0</td>\n",
       "      <td>artículo abordo problema contingente y relevan...</td>\n",
       "    </tr>\n",
       "    <tr>\n",
       "      <th>1</th>\n",
       "      <td>0</td>\n",
       "      <td>artículo presentar recomendación práctico desa...</td>\n",
       "    </tr>\n",
       "    <tr>\n",
       "      <th>2</th>\n",
       "      <td>0</td>\n",
       "      <td>tema interesante y ayuda guío incorporar práct...</td>\n",
       "    </tr>\n",
       "    <tr>\n",
       "      <th>3</th>\n",
       "      <td>1</td>\n",
       "      <td>explicar forma ordenado y didáctico experienci...</td>\n",
       "    </tr>\n",
       "    <tr>\n",
       "      <th>4</th>\n",
       "      <td>1</td>\n",
       "      <td>autor describir metodología desarrollar forma ...</td>\n",
       "    </tr>\n",
       "  </tbody>\n",
       "</table>\n",
       "</div>"
      ],
      "text/plain": [
       "   level_0                                         Lemma_text\n",
       "0        0  artículo abordo problema contingente y relevan...\n",
       "1        0  artículo presentar recomendación práctico desa...\n",
       "2        0  tema interesante y ayuda guío incorporar práct...\n",
       "3        1  explicar forma ordenado y didáctico experienci...\n",
       "4        1  autor describir metodología desarrollar forma ..."
      ]
     },
     "execution_count": 10,
     "metadata": {},
     "output_type": "execute_result"
    }
   ],
   "source": [
    "df2_new = df2[['level_0','Lemma_text']]\n",
    "\n",
    "df2_new.head()"
   ]
  },
  {
   "cell_type": "code",
   "execution_count": 11,
   "metadata": {},
   "outputs": [
    {
     "data": {
      "text/plain": [
       "'artículo abordo problema contingente y relevante e incluir diagnóstico nacional práctico solución práctico concreto lenguaje adecuado artículo sentir concatenación artículo resultado encuesta práctico seguridad incorporación práctico ordir sección reflejo orden versión revisado artículo validación tipo siquiera evaluación experto'"
      ]
     },
     "execution_count": 11,
     "metadata": {},
     "output_type": "execute_result"
    }
   ],
   "source": [
    "# Checking 1st row before concatanation\n",
    "df2_new['Lemma_text'][0]"
   ]
  },
  {
   "cell_type": "code",
   "execution_count": 12,
   "metadata": {},
   "outputs": [
    {
     "data": {
      "text/html": [
       "<div>\n",
       "<style scoped>\n",
       "    .dataframe tbody tr th:only-of-type {\n",
       "        vertical-align: middle;\n",
       "    }\n",
       "\n",
       "    .dataframe tbody tr th {\n",
       "        vertical-align: top;\n",
       "    }\n",
       "\n",
       "    .dataframe thead th {\n",
       "        text-align: right;\n",
       "    }\n",
       "</style>\n",
       "<table border=\"1\" class=\"dataframe\">\n",
       "  <thead>\n",
       "    <tr style=\"text-align: right;\">\n",
       "      <th></th>\n",
       "      <th>Lemma_text</th>\n",
       "    </tr>\n",
       "    <tr>\n",
       "      <th>level_0</th>\n",
       "      <th></th>\n",
       "    </tr>\n",
       "  </thead>\n",
       "  <tbody>\n",
       "    <tr>\n",
       "      <th>0</th>\n",
       "      <td>artículo abordo problema contingente y relevan...</td>\n",
       "    </tr>\n",
       "    <tr>\n",
       "      <th>1</th>\n",
       "      <td>explicar forma ordenado y didáctico experienci...</td>\n",
       "    </tr>\n",
       "    <tr>\n",
       "      <th>2</th>\n",
       "      <td>proponer enfocar basado apoyar recomendación r...</td>\n",
       "    </tr>\n",
       "    <tr>\n",
       "      <th>3</th>\n",
       "      <td>realizar modelamiento encriptación cuánticar n...</td>\n",
       "    </tr>\n",
       "    <tr>\n",
       "      <th>4</th>\n",
       "      <td>novedoso propuesta estructurado correctamente ...</td>\n",
       "    </tr>\n",
       "  </tbody>\n",
       "</table>\n",
       "</div>"
      ],
      "text/plain": [
       "                                                Lemma_text\n",
       "level_0                                                   \n",
       "0        artículo abordo problema contingente y relevan...\n",
       "1        explicar forma ordenado y didáctico experienci...\n",
       "2        proponer enfocar basado apoyar recomendación r...\n",
       "3        realizar modelamiento encriptación cuánticar n...\n",
       "4        novedoso propuesta estructurado correctamente ..."
      ]
     },
     "execution_count": 12,
     "metadata": {},
     "output_type": "execute_result"
    }
   ],
   "source": [
    "# Merge rows by same value in the column ('level_0')\n",
    "d = {'Lemma_text': lambda x: ' '.join(x)}\n",
    "df_new = df2_new.groupby(df2_new['level_0']).aggregate(d)\n",
    "df_new.head()"
   ]
  },
  {
   "cell_type": "code",
   "execution_count": 13,
   "metadata": {},
   "outputs": [
    {
     "data": {
      "text/plain": [
       "'artículo abordo problema contingente y relevante e incluir diagnóstico nacional práctico solución práctico concreto lenguaje adecuado artículo sentir concatenación artículo resultado encuesta práctico seguridad incorporación práctico ordir sección reflejo orden versión revisado artículo validación tipo siquiera evaluación experto artículo presentar recomendación práctico desarrollo software seguro describir mejor práctica recomendado desarrollar software proactivo ataque y realizar análisis costo práctico desarrollo software basado revisión práctico propuesto bibliografío y contraste dato obtenido encuesta empresa finalmente recomendar guía ideal aplicar guía propuesto empresa involucrado encuesta servir originar él evaluar efectividad forma independiente tema interesante y ayuda guío incorporar práctica seguridad presentación descripción etapa y práctica desarrollo software seguro “ estado real desarrollo software chile ” indicar paper lograr encuesta presentar nueve tabla corresponder práctica desarrollo software seguro guía presentar práctica explicar sugiero mejorar guía aporte secuencia incorporación proponer deber explicar práctico observación diferenciar él práctica columno deber sugerencia aplicar él texto indicar “ más presentar práctica extra … ” leer correctamente formato mínimo palabra clave sugiero mencionar práctica mostrar tabla referencia incompleto faltar año referencia faltar año y tipo evento referencia faltar editorial referencia libro título llevar coma comillos referencia'"
      ]
     },
     "execution_count": 13,
     "metadata": {},
     "output_type": "execute_result"
    }
   ],
   "source": [
    "# Checking if the rows are well concatenated\n",
    "df_new['Lemma_text'][0]"
   ]
  },
  {
   "cell_type": "code",
   "execution_count": 14,
   "metadata": {},
   "outputs": [
    {
     "data": {
      "text/html": [
       "<div>\n",
       "<style scoped>\n",
       "    .dataframe tbody tr th:only-of-type {\n",
       "        vertical-align: middle;\n",
       "    }\n",
       "\n",
       "    .dataframe tbody tr th {\n",
       "        vertical-align: top;\n",
       "    }\n",
       "\n",
       "    .dataframe thead th {\n",
       "        text-align: right;\n",
       "    }\n",
       "</style>\n",
       "<table border=\"1\" class=\"dataframe\">\n",
       "  <thead>\n",
       "    <tr style=\"text-align: right;\">\n",
       "      <th></th>\n",
       "      <th>book_id</th>\n",
       "      <th>preliminary_decision</th>\n",
       "      <th>review</th>\n",
       "      <th>Lemma_text</th>\n",
       "    </tr>\n",
       "  </thead>\n",
       "  <tbody>\n",
       "    <tr>\n",
       "      <th>0</th>\n",
       "      <td>1</td>\n",
       "      <td>accept</td>\n",
       "      <td>[{'confidence': '4', 'evaluation': '1', 'id': ...</td>\n",
       "      <td>artículo abordo problema contingente y relevan...</td>\n",
       "    </tr>\n",
       "    <tr>\n",
       "      <th>1</th>\n",
       "      <td>2</td>\n",
       "      <td>accept</td>\n",
       "      <td>[{'confidence': '4', 'evaluation': '2', 'id': ...</td>\n",
       "      <td>explicar forma ordenado y didáctico experienci...</td>\n",
       "    </tr>\n",
       "    <tr>\n",
       "      <th>2</th>\n",
       "      <td>3</td>\n",
       "      <td>accept</td>\n",
       "      <td>[{'confidence': '4', 'evaluation': '2', 'id': ...</td>\n",
       "      <td>proponer enfocar basado apoyar recomendación r...</td>\n",
       "    </tr>\n",
       "    <tr>\n",
       "      <th>3</th>\n",
       "      <td>4</td>\n",
       "      <td>accept</td>\n",
       "      <td>[{'confidence': '4', 'evaluation': '2', 'id': ...</td>\n",
       "      <td>realizar modelamiento encriptación cuánticar n...</td>\n",
       "    </tr>\n",
       "    <tr>\n",
       "      <th>4</th>\n",
       "      <td>5</td>\n",
       "      <td>accept</td>\n",
       "      <td>[{'confidence': '4', 'evaluation': '2', 'id': ...</td>\n",
       "      <td>novedoso propuesta estructurado correctamente ...</td>\n",
       "    </tr>\n",
       "  </tbody>\n",
       "</table>\n",
       "</div>"
      ],
      "text/plain": [
       "   book_id preliminary_decision  \\\n",
       "0        1               accept   \n",
       "1        2               accept   \n",
       "2        3               accept   \n",
       "3        4               accept   \n",
       "4        5               accept   \n",
       "\n",
       "                                              review  \\\n",
       "0  [{'confidence': '4', 'evaluation': '1', 'id': ...   \n",
       "1  [{'confidence': '4', 'evaluation': '2', 'id': ...   \n",
       "2  [{'confidence': '4', 'evaluation': '2', 'id': ...   \n",
       "3  [{'confidence': '4', 'evaluation': '2', 'id': ...   \n",
       "4  [{'confidence': '4', 'evaluation': '2', 'id': ...   \n",
       "\n",
       "                                          Lemma_text  \n",
       "0  artículo abordo problema contingente y relevan...  \n",
       "1  explicar forma ordenado y didáctico experienci...  \n",
       "2  proponer enfocar basado apoyar recomendación r...  \n",
       "3  realizar modelamiento encriptación cuánticar n...  \n",
       "4  novedoso propuesta estructurado correctamente ...  "
      ]
     },
     "execution_count": 14,
     "metadata": {},
     "output_type": "execute_result"
    }
   ],
   "source": [
    "## Merge two dataframes\n",
    "df_merge = pd.merge(df1, df_new, left_index=True, right_index=True)\n",
    "df_merge.head()"
   ]
  },
  {
   "cell_type": "code",
   "execution_count": 15,
   "metadata": {},
   "outputs": [
    {
     "data": {
      "text/html": [
       "<div>\n",
       "<style scoped>\n",
       "    .dataframe tbody tr th:only-of-type {\n",
       "        vertical-align: middle;\n",
       "    }\n",
       "\n",
       "    .dataframe tbody tr th {\n",
       "        vertical-align: top;\n",
       "    }\n",
       "\n",
       "    .dataframe thead th {\n",
       "        text-align: right;\n",
       "    }\n",
       "</style>\n",
       "<table border=\"1\" class=\"dataframe\">\n",
       "  <thead>\n",
       "    <tr style=\"text-align: right;\">\n",
       "      <th></th>\n",
       "      <th>book_id</th>\n",
       "      <th>preliminary_decision</th>\n",
       "      <th>Lemma_text</th>\n",
       "    </tr>\n",
       "  </thead>\n",
       "  <tbody>\n",
       "    <tr>\n",
       "      <th>0</th>\n",
       "      <td>1</td>\n",
       "      <td>accept</td>\n",
       "      <td>artículo abordo problema contingente y relevan...</td>\n",
       "    </tr>\n",
       "    <tr>\n",
       "      <th>1</th>\n",
       "      <td>2</td>\n",
       "      <td>accept</td>\n",
       "      <td>explicar forma ordenado y didáctico experienci...</td>\n",
       "    </tr>\n",
       "    <tr>\n",
       "      <th>2</th>\n",
       "      <td>3</td>\n",
       "      <td>accept</td>\n",
       "      <td>proponer enfocar basado apoyar recomendación r...</td>\n",
       "    </tr>\n",
       "    <tr>\n",
       "      <th>3</th>\n",
       "      <td>4</td>\n",
       "      <td>accept</td>\n",
       "      <td>realizar modelamiento encriptación cuánticar n...</td>\n",
       "    </tr>\n",
       "    <tr>\n",
       "      <th>4</th>\n",
       "      <td>5</td>\n",
       "      <td>accept</td>\n",
       "      <td>novedoso propuesta estructurado correctamente ...</td>\n",
       "    </tr>\n",
       "  </tbody>\n",
       "</table>\n",
       "</div>"
      ],
      "text/plain": [
       "   book_id preliminary_decision  \\\n",
       "0        1               accept   \n",
       "1        2               accept   \n",
       "2        3               accept   \n",
       "3        4               accept   \n",
       "4        5               accept   \n",
       "\n",
       "                                          Lemma_text  \n",
       "0  artículo abordo problema contingente y relevan...  \n",
       "1  explicar forma ordenado y didáctico experienci...  \n",
       "2  proponer enfocar basado apoyar recomendación r...  \n",
       "3  realizar modelamiento encriptación cuánticar n...  \n",
       "4  novedoso propuesta estructurado correctamente ...  "
      ]
     },
     "execution_count": 15,
     "metadata": {},
     "output_type": "execute_result"
    }
   ],
   "source": [
    "# Drop review column\n",
    "df_merge_drop = df_merge.drop(['review'], axis =1)\n",
    "df_merge_drop.head()"
   ]
  },
  {
   "cell_type": "markdown",
   "metadata": {},
   "source": [
    "### Model training"
   ]
  },
  {
   "cell_type": "code",
   "execution_count": 16,
   "metadata": {},
   "outputs": [
    {
     "name": "stdout",
     "output_type": "stream",
     "text": [
      "X_train:  134\n",
      "X_test:  34\n",
      "y_train:  134\n",
      "y_test:  34\n"
     ]
    }
   ],
   "source": [
    "from sklearn.model_selection import train_test_split\n",
    "\n",
    "independent_var = df_merge_drop.Lemma_text\n",
    "target_var = df_merge_drop.preliminary_decision\n",
    "\n",
    "X_train, X_test, y_train, y_test = train_test_split(independent_var, target_var, test_size=0.2, random_state = 42) \n",
    "\n",
    "print('X_train: ', len(X_train))\n",
    "print('X_test: ', len(X_test))\n",
    "print('y_train: ', len(y_train))\n",
    "print('y_test: ', len(y_test))"
   ]
  },
  {
   "cell_type": "markdown",
   "metadata": {},
   "source": [
    "### Vectorization Feature Engineering (TF-IDF)"
   ]
  },
  {
   "cell_type": "code",
   "execution_count": 17,
   "metadata": {},
   "outputs": [],
   "source": [
    "tfvec = TfidfVectorizer()\n",
    "#clf = LogisticRegression(solver = \"liblinear\") # https://scikit-learn.org/stable/modules/generated/sklearn.linear_model.LogisticRegression.html\n",
    "clf = LinearSVC() # This has increased the ccuracy"
   ]
  },
  {
   "cell_type": "code",
   "execution_count": 18,
   "metadata": {},
   "outputs": [
    {
     "data": {
      "text/plain": [
       "Pipeline(steps=[('vectorizer', TfidfVectorizer()), ('classifier', LinearSVC())])"
      ]
     },
     "execution_count": 18,
     "metadata": {},
     "output_type": "execute_result"
    }
   ],
   "source": [
    "model = Pipeline([('vectorizer', tfvec), ('classifier', clf)])\n",
    "model.fit(X_train, y_train)"
   ]
  },
  {
   "cell_type": "code",
   "execution_count": 19,
   "metadata": {},
   "outputs": [
    {
     "data": {
      "text/plain": [
       "array([[24,  1,  5],\n",
       "       [ 0,  0,  0],\n",
       "       [ 1,  0,  3]], dtype=int64)"
      ]
     },
     "execution_count": 19,
     "metadata": {},
     "output_type": "execute_result"
    }
   ],
   "source": [
    "predictions = model.predict(X_test)\n",
    "confusion_matrix(predictions, y_test)"
   ]
  },
  {
   "cell_type": "markdown",
   "metadata": {},
   "source": [
    "### Model prediction"
   ]
  },
  {
   "cell_type": "code",
   "execution_count": 20,
   "metadata": {},
   "outputs": [
    {
     "name": "stdout",
     "output_type": "stream",
     "text": [
      "Accuracy:  0.7941176470588235\n",
      "Precision:  0.8911764705882352\n",
      "Recall:  0.7941176470588235\n"
     ]
    }
   ],
   "source": [
    "print(\"Accuracy: \", accuracy_score(predictions, y_test ))\n",
    "print(\"Precision: \", precision_score(predictions, y_test, average = 'weighted' ) )\n",
    "print(\"Recall: \", recall_score(predictions, y_test, average = 'weighted', labels=np.unique(predictions)))"
   ]
  },
  {
   "cell_type": "code",
   "execution_count": 21,
   "metadata": {},
   "outputs": [
    {
     "name": "stdout",
     "output_type": "stream",
     "text": [
      "              precision    recall  f1-score   support\n",
      "\n",
      "      accept       0.80      0.96      0.87        25\n",
      "      reject       0.75      0.38      0.50         8\n",
      "\n",
      "   micro avg       0.79      0.82      0.81        33\n",
      "   macro avg       0.78      0.67      0.69        33\n",
      "weighted avg       0.79      0.82      0.78        33\n",
      "\n"
     ]
    }
   ],
   "source": [
    "# classification_report() builds a text report showing the main classification metrics.\n",
    "\n",
    "print(classification_report(y_test, predictions, labels=np.unique(predictions)))\n"
   ]
  },
  {
   "cell_type": "code",
   "execution_count": 22,
   "metadata": {},
   "outputs": [
    {
     "name": "stdout",
     "output_type": "stream",
     "text": [
      "['accept']\n"
     ]
    }
   ],
   "source": [
    "### Try a new review\n",
    "\n",
    "review = ['su novela es una historia mágica que revela la esencia de la vida, el amor y la soledad. Debido a la simplicidad del estilo de la prosa, las ilustraciones divertidas y divertidas, la viveza de la imaginación, esta historia simple pero reveladora se considera una de las mejores obras literarias de todos los tiempos.']\n",
    "result = model.predict(review)\n",
    "\n",
    "print(result)"
   ]
  },
  {
   "cell_type": "code",
   "execution_count": null,
   "metadata": {},
   "outputs": [],
   "source": []
  }
 ],
 "metadata": {
  "kernelspec": {
   "display_name": "Python 3",
   "language": "python",
   "name": "python3"
  },
  "language_info": {
   "codemirror_mode": {
    "name": "ipython",
    "version": 3
   },
   "file_extension": ".py",
   "mimetype": "text/x-python",
   "name": "python",
   "nbconvert_exporter": "python",
   "pygments_lexer": "ipython3",
   "version": "3.8.5"
  }
 },
 "nbformat": 4,
 "nbformat_minor": 4
}
